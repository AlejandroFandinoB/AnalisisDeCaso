{
 "cells": [
  {
   "cell_type": "code",
   "execution_count": 1,
   "metadata": {},
   "outputs": [
    {
     "data": {
      "text/plain": [
       "['Analisis de caso-version2.py',\n",
       " 'AnalisisDeCaso.ipynb',\n",
       " 'Datos',\n",
       " 'diccionarios_em2017_0.xlsx',\n",
       " 'Documentos',\n",
       " 'Hogares_2017_V2_03092018.txt',\n",
       " 'IPM.ppt',\n",
       " 'IPM1.doc',\n",
       " 'Personas_2017_V2_03092018.txt',\n",
       " 'tabla3.png',\n",
       " 'tabla4.png',\n",
       " 'TablaGini.png',\n",
       " 'variables_adicionales_hogar_v3.txt',\n",
       " 'variables_adicionales_personas_v2.txt',\n",
       " 'viviendas_2017_v2_03092018.txt',\n",
       " '~$diccionarios_em2017_0.xlsx',\n",
       " '~$IPM.ppt']"
      ]
     },
     "execution_count": 1,
     "metadata": {},
     "output_type": "execute_result"
    }
   ],
   "source": [
    "import os \n",
    "import pandas as pd\n",
    "from matplotlib import pyplot as plt\n",
    "import numpy as np\n",
    "\n",
    "os.chdir(r'C:\\Users\\ALEJANDRO\\Desktop\\Proyecto análisis de caso')\n",
    "os.listdir()"
   ]
  },
  {
   "cell_type": "code",
   "execution_count": 2,
   "metadata": {},
   "outputs": [
    {
     "data": {
      "text/plain": [
       "False    109111\n",
       "Name: DIRECTORIO_HOG, dtype: int64"
      ]
     },
     "execution_count": 2,
     "metadata": {},
     "output_type": "execute_result"
    }
   ],
   "source": [
    "# tabla hogar\n",
    "tabla_hog=pd.read_csv('variables_adicionales_hogar_v3.txt',sep = ';', dtype={'DIRECTORIO':str, 'DIRECTORIO_HOG': str})\n",
    "tabla_hog['DIRECTORIO_HOG'].duplicated().value_counts()  # no hay duplicados"
   ]
  },
  {
   "cell_type": "code",
   "execution_count": 3,
   "metadata": {},
   "outputs": [
    {
     "data": {
      "text/plain": [
       "False    107218\n",
       "Name: DIRECTORIO, dtype: int64"
      ]
     },
     "execution_count": 3,
     "metadata": {},
     "output_type": "execute_result"
    }
   ],
   "source": [
    "# tabla vivienda \n",
    "tabla_viv=pd.read_csv('viviendas_2017_v2_03092018.txt',sep = ',', encoding='latin1', dtype={'DIRECTORIO':str})\n",
    "tabla_viv['DIRECTORIO'].duplicated().value_counts()"
   ]
  },
  {
   "cell_type": "code",
   "execution_count": 4,
   "metadata": {},
   "outputs": [
    {
     "data": {
      "text/plain": [
       "False    319952\n",
       "Name: directorio_per, dtype: int64"
      ]
     },
     "execution_count": 4,
     "metadata": {},
     "output_type": "execute_result"
    }
   ],
   "source": [
    "# tabla variables adicionales personas\n",
    "tabla_per=pd.read_csv('variables_adicionales_personas_v2.txt', sep=',',encoding='latin1', dtype={'directorio':str, 'directorio_hog':str,'directorio_per':str})\n",
    "tabla_per=tabla_per.rename(columns={'directorio':'DIRECTORIO', 'directorio_hog':'DIRECTORIO_HOG'})\n",
    "tabla_per['directorio_per'].duplicated().value_counts()  # no hay duplicados"
   ]
  },
  {
   "cell_type": "markdown",
   "metadata": {},
   "source": [
    "# Filtrando la data"
   ]
  },
  {
   "cell_type": "code",
   "execution_count": 105,
   "metadata": {},
   "outputs": [],
   "source": [
    "hogar=tabla_hog.filter(['DIRECTORIO','DIRECTORIO_HOG','TOTAL_PUNTAJE_ICV','DIRECTORIO_PER','FEX_C','INGRESOS_HOG',\n",
    "                        'INGRESOS_PER_CAPITA','HOGAR_LP', 'HOGAR_LE','TOTAL_PUNTAJE_ICV','PUNTAJE_HACINAMIENTO','PUNTAJE_EDUC_JEFE',\n",
    "                        'PUNTAJE_PROM_12','ESTRATO_VIV', 'IPM_DESEMPLEO_LP','INGRESOS_HOG',\n",
    "                        'IPM','HOGAR_POBRE_IBM','IPM_BAJO_LOGRO_ED','IPM_ANALFABET',\n",
    "                        'IPM_INASISTENCIA_ESC','IPM_REZAGO_ESC', 'HOGAR_POBRE_IPM',\n",
    "                        'IPM_PI','IPM_TRABAJO_INFANTIL','IPM_ASEG_SALUD','IPM_ACCESO_SALUD','IPM_DESEMPLEO_LP',\n",
    "                        'IPM_EMPLEO_INFORMAL','IPM_AGUA','IPM_SAN_BASICO','IPM_PISOS','IPM_PAREDES',\n",
    "                        'IPM_HACINAMIENTO','IPM_EMPLEO_FORMAL'])\n"
   ]
  },
  {
   "cell_type": "code",
   "execution_count": 100,
   "metadata": {},
   "outputs": [],
   "source": [
    "vivienda=tabla_viv.filter(['DIRECTORIO','DPTOMPIO','CLASE','FEX_C','FEX_P','ESTRATO_TEX','LOCALIDAD_TEX',   \n",
    "                          'ESTRATO', 'SEGMENTO', 'COD_UPZ','NVCBP10','NVCBP11B','NVCBP11C','NVCBP14B'])  "
   ]
  },
  {
   "cell_type": "code",
   "execution_count": 7,
   "metadata": {},
   "outputs": [],
   "source": [
    "personas=tabla_per.filter(['DIRECTORIO','DIRECTORIO_HOG','directorio_per','pet','pea','ocupados','desempleado',\n",
    "                           'informal','inactivo','grupo_etario'])"
   ]
  },
  {
   "cell_type": "code",
   "execution_count": 109,
   "metadata": {},
   "outputs": [
    {
     "data": {
      "text/plain": [
       "Index(['DIRECTORIO', 'DIRECTORIO_HOG', 'DIRECTORIO_PER', 'FEX_C_x',\n",
       "       'INGRESOS_HOG', 'INGRESOS_PER_CAPITA', 'HOGAR_LP', 'HOGAR_LE',\n",
       "       'PUNTAJE_HACINAMIENTO', 'PUNTAJE_EDUC_JEFE', 'PUNTAJE_PROM_12',\n",
       "       'ESTRATO_VIV', 'IPM_DESEMPLEO_LP', 'INGRESOS_HOG', 'IPM',\n",
       "       'IPM_BAJO_LOGRO_ED', 'IPM_ANALFABET', 'IPM_INASISTENCIA_ESC',\n",
       "       'IPM_REZAGO_ESC', 'HOGAR_POBRE_IPM', 'IPM_PI', 'IPM_TRABAJO_INFANTIL',\n",
       "       'IPM_ASEG_SALUD', 'IPM_ACCESO_SALUD', 'IPM_DESEMPLEO_LP', 'IPM_AGUA',\n",
       "       'IPM_SAN_BASICO', 'IPM_PISOS', 'IPM_PAREDES', 'IPM_HACINAMIENTO',\n",
       "       'IPM_EMPLEO_FORMAL', 'DPTOMPIO', 'CLASE', 'FEX_C_y', 'FEX_P',\n",
       "       'ESTRATO_TEX', 'LOCALIDAD_TEX', 'ESTRATO', 'SEGMENTO', 'COD_UPZ',\n",
       "       'NVCBP10', 'NVCBP11B', 'NVCBP11C', 'NVCBP14B'],\n",
       "      dtype='object')"
      ]
     },
     "execution_count": 109,
     "metadata": {},
     "output_type": "execute_result"
    }
   ],
   "source": [
    "# PEGANDO LAS TABLAS\n",
    "\n",
    "union1=pd.merge(left=hogar, right=vivienda, how='left', on='DIRECTORIO') \n",
    "union1.columns\n"
   ]
  },
  {
   "cell_type": "markdown",
   "metadata": {},
   "source": [
    "### Filtrando Bogotá urbana "
   ]
  },
  {
   "cell_type": "code",
   "execution_count": 110,
   "metadata": {},
   "outputs": [
    {
     "data": {
      "text/html": [
       "<div>\n",
       "<style scoped>\n",
       "    .dataframe tbody tr th:only-of-type {\n",
       "        vertical-align: middle;\n",
       "    }\n",
       "\n",
       "    .dataframe tbody tr th {\n",
       "        vertical-align: top;\n",
       "    }\n",
       "\n",
       "    .dataframe thead th {\n",
       "        text-align: right;\n",
       "    }\n",
       "</style>\n",
       "<table border=\"1\" class=\"dataframe\">\n",
       "  <thead>\n",
       "    <tr style=\"text-align: right;\">\n",
       "      <th></th>\n",
       "      <th>DIRECTORIO</th>\n",
       "      <th>DIRECTORIO_HOG</th>\n",
       "      <th>DIRECTORIO_PER</th>\n",
       "      <th>FEX_C_x</th>\n",
       "      <th>INGRESOS_HOG</th>\n",
       "      <th>INGRESOS_PER_CAPITA</th>\n",
       "      <th>HOGAR_LP</th>\n",
       "      <th>HOGAR_LE</th>\n",
       "      <th>PUNTAJE_HACINAMIENTO</th>\n",
       "      <th>PUNTAJE_EDUC_JEFE</th>\n",
       "      <th>...</th>\n",
       "      <th>FEX_P</th>\n",
       "      <th>ESTRATO_TEX</th>\n",
       "      <th>LOCALIDAD_TEX</th>\n",
       "      <th>ESTRATO</th>\n",
       "      <th>SEGMENTO</th>\n",
       "      <th>COD_UPZ</th>\n",
       "      <th>NVCBP10</th>\n",
       "      <th>NVCBP11B</th>\n",
       "      <th>NVCBP11C</th>\n",
       "      <th>NVCBP14B</th>\n",
       "    </tr>\n",
       "  </thead>\n",
       "  <tbody>\n",
       "    <tr>\n",
       "      <td>0</td>\n",
       "      <td>101000</td>\n",
       "      <td>1010001</td>\n",
       "      <td>10100011</td>\n",
       "      <td>16.604442</td>\n",
       "      <td>1.702367e+07</td>\n",
       "      <td>5.674556e+06</td>\n",
       "      <td>0</td>\n",
       "      <td>0</td>\n",
       "      <td>12.8</td>\n",
       "      <td>11.52</td>\n",
       "      <td>...</td>\n",
       "      <td>15.655643</td>\n",
       "      <td>12.Casa Blanca Suba</td>\n",
       "      <td>\\tSUBA\\t</td>\n",
       "      <td>1100112</td>\n",
       "      <td>1967</td>\n",
       "      <td>23.0</td>\n",
       "      <td>2</td>\n",
       "      <td>1</td>\n",
       "      <td>1</td>\n",
       "      <td>2</td>\n",
       "    </tr>\n",
       "    <tr>\n",
       "      <td>1</td>\n",
       "      <td>101001</td>\n",
       "      <td>1010011</td>\n",
       "      <td>10100111</td>\n",
       "      <td>26.046357</td>\n",
       "      <td>3.372667e+06</td>\n",
       "      <td>8.431667e+05</td>\n",
       "      <td>0</td>\n",
       "      <td>0</td>\n",
       "      <td>12.8</td>\n",
       "      <td>11.52</td>\n",
       "      <td>...</td>\n",
       "      <td>24.703971</td>\n",
       "      <td>58.San Cristobal Norte</td>\n",
       "      <td>\\tUSAQUEN\\t</td>\n",
       "      <td>1100158</td>\n",
       "      <td>5969</td>\n",
       "      <td>11.0</td>\n",
       "      <td>2</td>\n",
       "      <td>1</td>\n",
       "      <td>1</td>\n",
       "      <td>2</td>\n",
       "    </tr>\n",
       "    <tr>\n",
       "      <td>2</td>\n",
       "      <td>101002</td>\n",
       "      <td>1010021</td>\n",
       "      <td>10100211</td>\n",
       "      <td>13.840826</td>\n",
       "      <td>2.225000e+06</td>\n",
       "      <td>1.112500e+06</td>\n",
       "      <td>0</td>\n",
       "      <td>0</td>\n",
       "      <td>12.8</td>\n",
       "      <td>10.53</td>\n",
       "      <td>...</td>\n",
       "      <td>14.022222</td>\n",
       "      <td>70.Toberin</td>\n",
       "      <td>\\tUSAQUEN\\t</td>\n",
       "      <td>1100170</td>\n",
       "      <td>6971</td>\n",
       "      <td>12.0</td>\n",
       "      <td>1</td>\n",
       "      <td>1</td>\n",
       "      <td>1</td>\n",
       "      <td>2</td>\n",
       "    </tr>\n",
       "    <tr>\n",
       "      <td>3</td>\n",
       "      <td>101003</td>\n",
       "      <td>1010031</td>\n",
       "      <td>10100311</td>\n",
       "      <td>7.011111</td>\n",
       "      <td>3.620000e+06</td>\n",
       "      <td>1.206667e+06</td>\n",
       "      <td>0</td>\n",
       "      <td>0</td>\n",
       "      <td>12.8</td>\n",
       "      <td>7.37</td>\n",
       "      <td>...</td>\n",
       "      <td>14.022222</td>\n",
       "      <td>70.Toberin</td>\n",
       "      <td>\\tUSAQUEN\\t</td>\n",
       "      <td>1100170</td>\n",
       "      <td>6971</td>\n",
       "      <td>12.0</td>\n",
       "      <td>1</td>\n",
       "      <td>1</td>\n",
       "      <td>1</td>\n",
       "      <td>2</td>\n",
       "    </tr>\n",
       "    <tr>\n",
       "      <td>4</td>\n",
       "      <td>101004</td>\n",
       "      <td>1010041</td>\n",
       "      <td>10100411</td>\n",
       "      <td>67.930390</td>\n",
       "      <td>4.166667e+03</td>\n",
       "      <td>4.166667e+03</td>\n",
       "      <td>1</td>\n",
       "      <td>1</td>\n",
       "      <td>12.8</td>\n",
       "      <td>11.52</td>\n",
       "      <td>...</td>\n",
       "      <td>68.607867</td>\n",
       "      <td>76. USAQUÉN: Country Club + USAQUÉN + Santa Bá...</td>\n",
       "      <td>\\tUSAQUEN\\t</td>\n",
       "      <td>1100176</td>\n",
       "      <td>7470</td>\n",
       "      <td>803.0</td>\n",
       "      <td>2</td>\n",
       "      <td>1</td>\n",
       "      <td>1</td>\n",
       "      <td>2</td>\n",
       "    </tr>\n",
       "  </tbody>\n",
       "</table>\n",
       "<p>5 rows × 44 columns</p>\n",
       "</div>"
      ],
      "text/plain": [
       "  DIRECTORIO DIRECTORIO_HOG  DIRECTORIO_PER    FEX_C_x  INGRESOS_HOG  \\\n",
       "0     101000        1010001        10100011  16.604442  1.702367e+07   \n",
       "1     101001        1010011        10100111  26.046357  3.372667e+06   \n",
       "2     101002        1010021        10100211  13.840826  2.225000e+06   \n",
       "3     101003        1010031        10100311   7.011111  3.620000e+06   \n",
       "4     101004        1010041        10100411  67.930390  4.166667e+03   \n",
       "\n",
       "   INGRESOS_PER_CAPITA  HOGAR_LP  HOGAR_LE  PUNTAJE_HACINAMIENTO  \\\n",
       "0         5.674556e+06         0         0                  12.8   \n",
       "1         8.431667e+05         0         0                  12.8   \n",
       "2         1.112500e+06         0         0                  12.8   \n",
       "3         1.206667e+06         0         0                  12.8   \n",
       "4         4.166667e+03         1         1                  12.8   \n",
       "\n",
       "   PUNTAJE_EDUC_JEFE  ...      FEX_P  \\\n",
       "0              11.52  ...  15.655643   \n",
       "1              11.52  ...  24.703971   \n",
       "2              10.53  ...  14.022222   \n",
       "3               7.37  ...  14.022222   \n",
       "4              11.52  ...  68.607867   \n",
       "\n",
       "                                         ESTRATO_TEX  LOCALIDAD_TEX  ESTRATO  \\\n",
       "0                                12.Casa Blanca Suba       \\tSUBA\\t  1100112   \n",
       "1                             58.San Cristobal Norte    \\tUSAQUEN\\t  1100158   \n",
       "2                                         70.Toberin    \\tUSAQUEN\\t  1100170   \n",
       "3                                         70.Toberin    \\tUSAQUEN\\t  1100170   \n",
       "4  76. USAQUÉN: Country Club + USAQUÉN + Santa Bá...    \\tUSAQUEN\\t  1100176   \n",
       "\n",
       "   SEGMENTO  COD_UPZ  NVCBP10  NVCBP11B  NVCBP11C  NVCBP14B  \n",
       "0      1967     23.0        2         1         1         2  \n",
       "1      5969     11.0        2         1         1         2  \n",
       "2      6971     12.0        1         1         1         2  \n",
       "3      6971     12.0        1         1         1         2  \n",
       "4      7470    803.0        2         1         1         2  \n",
       "\n",
       "[5 rows x 44 columns]"
      ]
     },
     "execution_count": 110,
     "metadata": {},
     "output_type": "execute_result"
    }
   ],
   "source": [
    "condicion1 = union1.DPTOMPIO.isin([11001]) & union1.CLASE.isin([1])\n",
    "bogota_urbana = union1.loc[condicion1,]\n",
    "bogota_urbana.head()\n"
   ]
  },
  {
   "cell_type": "code",
   "execution_count": 111,
   "metadata": {},
   "outputs": [
    {
     "data": {
      "text/plain": [
       "DIRECTORIO              0\n",
       "DIRECTORIO_HOG          0\n",
       "DIRECTORIO_PER          0\n",
       "FEX_C_x                 0\n",
       "INGRESOS_HOG            0\n",
       "INGRESOS_PER_CAPITA     0\n",
       "HOGAR_LP                0\n",
       "HOGAR_LE                0\n",
       "PUNTAJE_HACINAMIENTO    0\n",
       "PUNTAJE_EDUC_JEFE       0\n",
       "PUNTAJE_PROM_12         0\n",
       "ESTRATO_VIV             0\n",
       "IPM_DESEMPLEO_LP        0\n",
       "INGRESOS_HOG            0\n",
       "IPM                     0\n",
       "IPM_BAJO_LOGRO_ED       0\n",
       "IPM_ANALFABET           0\n",
       "IPM_INASISTENCIA_ESC    0\n",
       "IPM_REZAGO_ESC          0\n",
       "HOGAR_POBRE_IPM         0\n",
       "IPM_PI                  0\n",
       "IPM_TRABAJO_INFANTIL    0\n",
       "IPM_ASEG_SALUD          0\n",
       "IPM_ACCESO_SALUD        0\n",
       "IPM_DESEMPLEO_LP        0\n",
       "IPM_AGUA                0\n",
       "IPM_SAN_BASICO          0\n",
       "IPM_PISOS               0\n",
       "IPM_PAREDES             0\n",
       "IPM_HACINAMIENTO        0\n",
       "IPM_EMPLEO_FORMAL       0\n",
       "DPTOMPIO                0\n",
       "CLASE                   0\n",
       "FEX_C_y                 0\n",
       "FEX_P                   0\n",
       "ESTRATO_TEX             0\n",
       "LOCALIDAD_TEX           0\n",
       "ESTRATO                 0\n",
       "SEGMENTO                0\n",
       "COD_UPZ                 0\n",
       "NVCBP10                 0\n",
       "NVCBP11B                0\n",
       "NVCBP11C                0\n",
       "NVCBP14B                0\n",
       "dtype: int64"
      ]
     },
     "execution_count": 111,
     "metadata": {},
     "output_type": "execute_result"
    }
   ],
   "source": [
    "# Verificando valores nulos \n",
    "bogota_urbana.isnull().sum() "
   ]
  },
  {
   "cell_type": "code",
   "execution_count": 14,
   "metadata": {},
   "outputs": [
    {
     "data": {
      "text/html": [
       "<div>\n",
       "<style scoped>\n",
       "    .dataframe tbody tr th:only-of-type {\n",
       "        vertical-align: middle;\n",
       "    }\n",
       "\n",
       "    .dataframe tbody tr th {\n",
       "        vertical-align: top;\n",
       "    }\n",
       "\n",
       "    .dataframe thead th {\n",
       "        text-align: right;\n",
       "    }\n",
       "</style>\n",
       "<table border=\"1\" class=\"dataframe\">\n",
       "  <thead>\n",
       "    <tr style=\"text-align: right;\">\n",
       "      <th></th>\n",
       "      <th>DIRECTORIO_PER</th>\n",
       "      <th>FEX_C_x</th>\n",
       "      <th>INGRESOS_HOG</th>\n",
       "      <th>INGRESOS_PER_CAPITA</th>\n",
       "      <th>HOGAR_LP</th>\n",
       "      <th>HOGAR_LE</th>\n",
       "      <th>PER_UG</th>\n",
       "      <th>PUNTAJE_HACINAMIENTO</th>\n",
       "      <th>PUNTAJE_EDUC_JEFE</th>\n",
       "      <th>PUNTAJE_PROM_12</th>\n",
       "      <th>...</th>\n",
       "      <th>CLASE</th>\n",
       "      <th>FEX_C_y</th>\n",
       "      <th>FEX_P</th>\n",
       "      <th>ESTRATO</th>\n",
       "      <th>SEGMENTO</th>\n",
       "      <th>COD_UPZ</th>\n",
       "      <th>NVCBP10</th>\n",
       "      <th>NVCBP11B</th>\n",
       "      <th>NVCBP11C</th>\n",
       "      <th>NVCBP14B</th>\n",
       "    </tr>\n",
       "  </thead>\n",
       "  <tbody>\n",
       "    <tr>\n",
       "      <td>count</td>\n",
       "      <td>7.464000e+04</td>\n",
       "      <td>74640.000000</td>\n",
       "      <td>7.464000e+04</td>\n",
       "      <td>7.464000e+04</td>\n",
       "      <td>74640.000000</td>\n",
       "      <td>74640.000000</td>\n",
       "      <td>74640.000000</td>\n",
       "      <td>74640.000000</td>\n",
       "      <td>74640.000000</td>\n",
       "      <td>74640.000000</td>\n",
       "      <td>...</td>\n",
       "      <td>74640.0</td>\n",
       "      <td>74640.000000</td>\n",
       "      <td>74640.000000</td>\n",
       "      <td>7.464000e+04</td>\n",
       "      <td>74640.000000</td>\n",
       "      <td>74640.000000</td>\n",
       "      <td>74640.000000</td>\n",
       "      <td>74640.000000</td>\n",
       "      <td>74640.000000</td>\n",
       "      <td>74640.000000</td>\n",
       "    </tr>\n",
       "    <tr>\n",
       "      <td>mean</td>\n",
       "      <td>1.992113e+07</td>\n",
       "      <td>36.139338</td>\n",
       "      <td>3.623199e+06</td>\n",
       "      <td>1.550905e+06</td>\n",
       "      <td>0.132998</td>\n",
       "      <td>0.057744</td>\n",
       "      <td>2.857677</td>\n",
       "      <td>12.480772</td>\n",
       "      <td>9.825862</td>\n",
       "      <td>10.762223</td>\n",
       "      <td>...</td>\n",
       "      <td>1.0</td>\n",
       "      <td>36.139338</td>\n",
       "      <td>36.986742</td>\n",
       "      <td>1.100144e+06</td>\n",
       "      <td>4758.343596</td>\n",
       "      <td>183.893261</td>\n",
       "      <td>1.726326</td>\n",
       "      <td>1.001005</td>\n",
       "      <td>1.003055</td>\n",
       "      <td>1.905694</td>\n",
       "    </tr>\n",
       "    <tr>\n",
       "      <td>std</td>\n",
       "      <td>6.236485e+06</td>\n",
       "      <td>27.805797</td>\n",
       "      <td>4.419272e+06</td>\n",
       "      <td>2.190505e+06</td>\n",
       "      <td>0.339575</td>\n",
       "      <td>0.233260</td>\n",
       "      <td>1.438276</td>\n",
       "      <td>1.305814</td>\n",
       "      <td>2.529806</td>\n",
       "      <td>2.316096</td>\n",
       "      <td>...</td>\n",
       "      <td>0.0</td>\n",
       "      <td>27.805797</td>\n",
       "      <td>24.761120</td>\n",
       "      <td>2.561030e+01</td>\n",
       "      <td>2190.392432</td>\n",
       "      <td>278.564904</td>\n",
       "      <td>0.496247</td>\n",
       "      <td>0.031683</td>\n",
       "      <td>0.055185</td>\n",
       "      <td>0.292256</td>\n",
       "    </tr>\n",
       "    <tr>\n",
       "      <td>min</td>\n",
       "      <td>1.010001e+07</td>\n",
       "      <td>2.417681</td>\n",
       "      <td>0.000000e+00</td>\n",
       "      <td>0.000000e+00</td>\n",
       "      <td>0.000000</td>\n",
       "      <td>0.000000</td>\n",
       "      <td>1.000000</td>\n",
       "      <td>0.000000</td>\n",
       "      <td>0.000000</td>\n",
       "      <td>0.000000</td>\n",
       "      <td>...</td>\n",
       "      <td>1.0</td>\n",
       "      <td>2.417681</td>\n",
       "      <td>4.835361</td>\n",
       "      <td>1.100101e+06</td>\n",
       "      <td>1001.000000</td>\n",
       "      <td>11.000000</td>\n",
       "      <td>1.000000</td>\n",
       "      <td>1.000000</td>\n",
       "      <td>1.000000</td>\n",
       "      <td>1.000000</td>\n",
       "    </tr>\n",
       "    <tr>\n",
       "      <td>25%</td>\n",
       "      <td>1.430419e+07</td>\n",
       "      <td>15.743414</td>\n",
       "      <td>1.197700e+06</td>\n",
       "      <td>4.375000e+05</td>\n",
       "      <td>0.000000</td>\n",
       "      <td>0.000000</td>\n",
       "      <td>2.000000</td>\n",
       "      <td>12.800000</td>\n",
       "      <td>9.410000</td>\n",
       "      <td>9.660000</td>\n",
       "      <td>...</td>\n",
       "      <td>1.0</td>\n",
       "      <td>15.743414</td>\n",
       "      <td>16.789525</td>\n",
       "      <td>1.100122e+06</td>\n",
       "      <td>2849.000000</td>\n",
       "      <td>41.000000</td>\n",
       "      <td>1.000000</td>\n",
       "      <td>1.000000</td>\n",
       "      <td>1.000000</td>\n",
       "      <td>2.000000</td>\n",
       "    </tr>\n",
       "    <tr>\n",
       "      <td>50%</td>\n",
       "      <td>1.856896e+07</td>\n",
       "      <td>28.875156</td>\n",
       "      <td>2.238334e+06</td>\n",
       "      <td>8.500000e+05</td>\n",
       "      <td>0.000000</td>\n",
       "      <td>0.000000</td>\n",
       "      <td>3.000000</td>\n",
       "      <td>12.800000</td>\n",
       "      <td>10.530000</td>\n",
       "      <td>11.540000</td>\n",
       "      <td>...</td>\n",
       "      <td>1.0</td>\n",
       "      <td>28.875156</td>\n",
       "      <td>33.801924</td>\n",
       "      <td>1.100144e+06</td>\n",
       "      <td>4780.000000</td>\n",
       "      <td>72.000000</td>\n",
       "      <td>2.000000</td>\n",
       "      <td>1.000000</td>\n",
       "      <td>1.000000</td>\n",
       "      <td>2.000000</td>\n",
       "    </tr>\n",
       "    <tr>\n",
       "      <td>75%</td>\n",
       "      <td>2.551034e+07</td>\n",
       "      <td>49.408737</td>\n",
       "      <td>4.386667e+06</td>\n",
       "      <td>1.770000e+06</td>\n",
       "      <td>0.000000</td>\n",
       "      <td>0.000000</td>\n",
       "      <td>4.000000</td>\n",
       "      <td>12.800000</td>\n",
       "      <td>11.520000</td>\n",
       "      <td>12.110000</td>\n",
       "      <td>...</td>\n",
       "      <td>1.0</td>\n",
       "      <td>49.408737</td>\n",
       "      <td>49.779968</td>\n",
       "      <td>1.100166e+06</td>\n",
       "      <td>6658.000000</td>\n",
       "      <td>101.000000</td>\n",
       "      <td>2.000000</td>\n",
       "      <td>1.000000</td>\n",
       "      <td>1.000000</td>\n",
       "      <td>2.000000</td>\n",
       "    </tr>\n",
       "    <tr>\n",
       "      <td>max</td>\n",
       "      <td>3.151781e+07</td>\n",
       "      <td>273.059235</td>\n",
       "      <td>1.732000e+08</td>\n",
       "      <td>5.773333e+07</td>\n",
       "      <td>1.000000</td>\n",
       "      <td>1.000000</td>\n",
       "      <td>17.000000</td>\n",
       "      <td>12.800000</td>\n",
       "      <td>11.520000</td>\n",
       "      <td>12.310000</td>\n",
       "      <td>...</td>\n",
       "      <td>1.0</td>\n",
       "      <td>273.059235</td>\n",
       "      <td>171.164048</td>\n",
       "      <td>1.100190e+06</td>\n",
       "      <td>8554.000000</td>\n",
       "      <td>817.000000</td>\n",
       "      <td>4.000000</td>\n",
       "      <td>2.000000</td>\n",
       "      <td>2.000000</td>\n",
       "      <td>2.000000</td>\n",
       "    </tr>\n",
       "  </tbody>\n",
       "</table>\n",
       "<p>8 rows × 42 columns</p>\n",
       "</div>"
      ],
      "text/plain": [
       "       DIRECTORIO_PER       FEX_C_x  INGRESOS_HOG  INGRESOS_PER_CAPITA  \\\n",
       "count    7.464000e+04  74640.000000  7.464000e+04         7.464000e+04   \n",
       "mean     1.992113e+07     36.139338  3.623199e+06         1.550905e+06   \n",
       "std      6.236485e+06     27.805797  4.419272e+06         2.190505e+06   \n",
       "min      1.010001e+07      2.417681  0.000000e+00         0.000000e+00   \n",
       "25%      1.430419e+07     15.743414  1.197700e+06         4.375000e+05   \n",
       "50%      1.856896e+07     28.875156  2.238334e+06         8.500000e+05   \n",
       "75%      2.551034e+07     49.408737  4.386667e+06         1.770000e+06   \n",
       "max      3.151781e+07    273.059235  1.732000e+08         5.773333e+07   \n",
       "\n",
       "           HOGAR_LP      HOGAR_LE        PER_UG  PUNTAJE_HACINAMIENTO  \\\n",
       "count  74640.000000  74640.000000  74640.000000          74640.000000   \n",
       "mean       0.132998      0.057744      2.857677             12.480772   \n",
       "std        0.339575      0.233260      1.438276              1.305814   \n",
       "min        0.000000      0.000000      1.000000              0.000000   \n",
       "25%        0.000000      0.000000      2.000000             12.800000   \n",
       "50%        0.000000      0.000000      3.000000             12.800000   \n",
       "75%        0.000000      0.000000      4.000000             12.800000   \n",
       "max        1.000000      1.000000     17.000000             12.800000   \n",
       "\n",
       "       PUNTAJE_EDUC_JEFE  PUNTAJE_PROM_12  ...    CLASE       FEX_C_y  \\\n",
       "count       74640.000000     74640.000000  ...  74640.0  74640.000000   \n",
       "mean            9.825862        10.762223  ...      1.0     36.139338   \n",
       "std             2.529806         2.316096  ...      0.0     27.805797   \n",
       "min             0.000000         0.000000  ...      1.0      2.417681   \n",
       "25%             9.410000         9.660000  ...      1.0     15.743414   \n",
       "50%            10.530000        11.540000  ...      1.0     28.875156   \n",
       "75%            11.520000        12.110000  ...      1.0     49.408737   \n",
       "max            11.520000        12.310000  ...      1.0    273.059235   \n",
       "\n",
       "              FEX_P       ESTRATO      SEGMENTO       COD_UPZ       NVCBP10  \\\n",
       "count  74640.000000  7.464000e+04  74640.000000  74640.000000  74640.000000   \n",
       "mean      36.986742  1.100144e+06   4758.343596    183.893261      1.726326   \n",
       "std       24.761120  2.561030e+01   2190.392432    278.564904      0.496247   \n",
       "min        4.835361  1.100101e+06   1001.000000     11.000000      1.000000   \n",
       "25%       16.789525  1.100122e+06   2849.000000     41.000000      1.000000   \n",
       "50%       33.801924  1.100144e+06   4780.000000     72.000000      2.000000   \n",
       "75%       49.779968  1.100166e+06   6658.000000    101.000000      2.000000   \n",
       "max      171.164048  1.100190e+06   8554.000000    817.000000      4.000000   \n",
       "\n",
       "           NVCBP11B      NVCBP11C      NVCBP14B  \n",
       "count  74640.000000  74640.000000  74640.000000  \n",
       "mean       1.001005      1.003055      1.905694  \n",
       "std        0.031683      0.055185      0.292256  \n",
       "min        1.000000      1.000000      1.000000  \n",
       "25%        1.000000      1.000000      2.000000  \n",
       "50%        1.000000      1.000000      2.000000  \n",
       "75%        1.000000      1.000000      2.000000  \n",
       "max        2.000000      2.000000      2.000000  \n",
       "\n",
       "[8 rows x 42 columns]"
      ]
     },
     "execution_count": 14,
     "metadata": {},
     "output_type": "execute_result"
    }
   ],
   "source": [
    "bogota_urbana.describe()"
   ]
  },
  {
   "cell_type": "markdown",
   "metadata": {},
   "source": [
    "### --------------------------------------------------------------------------------------------------------------------------------------------------------------"
   ]
  },
  {
   "cell_type": "markdown",
   "metadata": {},
   "source": [
    "# POBREZA MONTARIA"
   ]
  },
  {
   "cell_type": "markdown",
   "metadata": {},
   "source": [
    "## LINEA DE POBREZA (LP) : Hogares que están por debajo de la línea de pobreza"
   ]
  },
  {
   "cell_type": "code",
   "execution_count": 29,
   "metadata": {},
   "outputs": [
    {
     "data": {
      "text/html": [
       "<div>\n",
       "<style scoped>\n",
       "    .dataframe tbody tr th:only-of-type {\n",
       "        vertical-align: middle;\n",
       "    }\n",
       "\n",
       "    .dataframe tbody tr th {\n",
       "        vertical-align: top;\n",
       "    }\n",
       "\n",
       "    .dataframe thead th {\n",
       "        text-align: right;\n",
       "    }\n",
       "</style>\n",
       "<table border=\"1\" class=\"dataframe\">\n",
       "  <thead>\n",
       "    <tr style=\"text-align: right;\">\n",
       "      <th>HOGAR_LP</th>\n",
       "      <th>LOCALIDAD_TEX</th>\n",
       "      <th>HOGAR_NO_POBRE</th>\n",
       "      <th>HOGAR_POBRE</th>\n",
       "    </tr>\n",
       "  </thead>\n",
       "  <tbody>\n",
       "    <tr>\n",
       "      <td>0</td>\n",
       "      <td>ANTONIO NARIÑO</td>\n",
       "      <td>0.928205</td>\n",
       "      <td>0.071795</td>\n",
       "    </tr>\n",
       "    <tr>\n",
       "      <td>1</td>\n",
       "      <td>BARRIOS UNIDOS</td>\n",
       "      <td>0.933174</td>\n",
       "      <td>0.066826</td>\n",
       "    </tr>\n",
       "    <tr>\n",
       "      <td>2</td>\n",
       "      <td>BOSA</td>\n",
       "      <td>0.815907</td>\n",
       "      <td>0.184093</td>\n",
       "    </tr>\n",
       "    <tr>\n",
       "      <td>3</td>\n",
       "      <td>CANDELARIA</td>\n",
       "      <td>0.848156</td>\n",
       "      <td>0.151844</td>\n",
       "    </tr>\n",
       "    <tr>\n",
       "      <td>4</td>\n",
       "      <td>CHAPINERO</td>\n",
       "      <td>0.921379</td>\n",
       "      <td>0.078621</td>\n",
       "    </tr>\n",
       "    <tr>\n",
       "      <td>5</td>\n",
       "      <td>CIUDAD BOLIVAR</td>\n",
       "      <td>0.766020</td>\n",
       "      <td>0.233980</td>\n",
       "    </tr>\n",
       "    <tr>\n",
       "      <td>6</td>\n",
       "      <td>ENGATIVA</td>\n",
       "      <td>0.924821</td>\n",
       "      <td>0.075179</td>\n",
       "    </tr>\n",
       "    <tr>\n",
       "      <td>7</td>\n",
       "      <td>FONTIBON</td>\n",
       "      <td>0.918308</td>\n",
       "      <td>0.081692</td>\n",
       "    </tr>\n",
       "    <tr>\n",
       "      <td>8</td>\n",
       "      <td>KENNEDY</td>\n",
       "      <td>0.854835</td>\n",
       "      <td>0.145165</td>\n",
       "    </tr>\n",
       "    <tr>\n",
       "      <td>9</td>\n",
       "      <td>LOS MARTIRES</td>\n",
       "      <td>0.896651</td>\n",
       "      <td>0.103349</td>\n",
       "    </tr>\n",
       "    <tr>\n",
       "      <td>10</td>\n",
       "      <td>PUENTE ARANDA</td>\n",
       "      <td>0.870227</td>\n",
       "      <td>0.129773</td>\n",
       "    </tr>\n",
       "    <tr>\n",
       "      <td>11</td>\n",
       "      <td>RAFAEL URIBE URIBE</td>\n",
       "      <td>0.831625</td>\n",
       "      <td>0.168375</td>\n",
       "    </tr>\n",
       "    <tr>\n",
       "      <td>12</td>\n",
       "      <td>SAN CRISTOBAL</td>\n",
       "      <td>0.820074</td>\n",
       "      <td>0.179926</td>\n",
       "    </tr>\n",
       "    <tr>\n",
       "      <td>13</td>\n",
       "      <td>SANTA FE</td>\n",
       "      <td>0.818946</td>\n",
       "      <td>0.181054</td>\n",
       "    </tr>\n",
       "    <tr>\n",
       "      <td>14</td>\n",
       "      <td>SUBA</td>\n",
       "      <td>0.929006</td>\n",
       "      <td>0.070994</td>\n",
       "    </tr>\n",
       "    <tr>\n",
       "      <td>15</td>\n",
       "      <td>TEUSAQUILLO</td>\n",
       "      <td>0.954216</td>\n",
       "      <td>0.045784</td>\n",
       "    </tr>\n",
       "    <tr>\n",
       "      <td>16</td>\n",
       "      <td>TUNJUELITO</td>\n",
       "      <td>0.772222</td>\n",
       "      <td>0.227778</td>\n",
       "    </tr>\n",
       "    <tr>\n",
       "      <td>17</td>\n",
       "      <td>USAQUEN</td>\n",
       "      <td>0.926316</td>\n",
       "      <td>0.073684</td>\n",
       "    </tr>\n",
       "    <tr>\n",
       "      <td>18</td>\n",
       "      <td>USME</td>\n",
       "      <td>0.654283</td>\n",
       "      <td>0.345717</td>\n",
       "    </tr>\n",
       "  </tbody>\n",
       "</table>\n",
       "</div>"
      ],
      "text/plain": [
       "HOGAR_LP       LOCALIDAD_TEX  HOGAR_NO_POBRE  HOGAR_POBRE\n",
       "0             ANTONIO NARIÑO        0.928205     0.071795\n",
       "1             BARRIOS UNIDOS        0.933174     0.066826\n",
       "2                       BOSA        0.815907     0.184093\n",
       "3                 CANDELARIA        0.848156     0.151844\n",
       "4                  CHAPINERO        0.921379     0.078621\n",
       "5             CIUDAD BOLIVAR        0.766020     0.233980\n",
       "6                   ENGATIVA        0.924821     0.075179\n",
       "7                   FONTIBON        0.918308     0.081692\n",
       "8                    KENNEDY        0.854835     0.145165\n",
       "9               LOS MARTIRES        0.896651     0.103349\n",
       "10             PUENTE ARANDA        0.870227     0.129773\n",
       "11        RAFAEL URIBE URIBE        0.831625     0.168375\n",
       "12             SAN CRISTOBAL        0.820074     0.179926\n",
       "13                  SANTA FE        0.818946     0.181054\n",
       "14                      SUBA        0.929006     0.070994\n",
       "15               TEUSAQUILLO        0.954216     0.045784\n",
       "16                TUNJUELITO        0.772222     0.227778\n",
       "17                   USAQUEN        0.926316     0.073684\n",
       "18                      USME        0.654283     0.345717"
      ]
     },
     "execution_count": 29,
     "metadata": {},
     "output_type": "execute_result"
    }
   ],
   "source": [
    "LP=pd.crosstab(bogota_urbana['LOCALIDAD_TEX'],bogota_urbana['HOGAR_LP']).apply(lambda r: r/r.sum(), axis=1).reset_index()\n",
    "LP=LP.rename(columns={0:'HOGAR_NO_POBRE', 1:'HOGAR_POBRE'})\n",
    "LP=LP.replace('\\t', '',regex=True)\n",
    "LP"
   ]
  },
  {
   "cell_type": "code",
   "execution_count": 31,
   "metadata": {},
   "outputs": [
    {
     "data": {
      "text/plain": [
       "<matplotlib.axes._subplots.AxesSubplot at 0x1cb2b958788>"
      ]
     },
     "execution_count": 31,
     "metadata": {},
     "output_type": "execute_result"
    },
    {
     "data": {
      "image/png": "[encoded data removed]",
      "text/plain": [
       "<Figure size 720x720 with 1 Axes>"
      ]
     },
     "metadata": {
      "needs_background": "light"
     },
     "output_type": "display_data"
    }
   ],
   "source": [
    "LP.groupby(\"LOCALIDAD_TEX\")[[\"HOGAR_POBRE\"]].mean().sort_values(by=[\"HOGAR_POBRE\"],ascending=True).plot(kind='barh', figsize=(10,10))"
   ]
  },
  {
   "cell_type": "code",
   "execution_count": 97,
   "metadata": {},
   "outputs": [
    {
     "name": "stdout",
     "output_type": "stream",
     "text": [
      "Proporción hogar por LP : 0.1329983922829582\n"
     ]
    }
   ],
   "source": [
    "df=bogota_urbana[['HOGAR_LP','LOCALIDAD_TEX']]\n",
    "LP=sum(df.HOGAR_LP)/len(df.HOGAR_LP)\n",
    "print('Proporción hogar por LP :',LP)"
   ]
  },
  {
   "cell_type": "code",
   "execution_count": 35,
   "metadata": {},
   "outputs": [
    {
     "name": "stdout",
     "output_type": "stream",
     "text": [
      "HOGAR_LP  sum    9927\n",
      "dtype: int64\n"
     ]
    },
    {
     "data": {
      "text/html": [
       "<div>\n",
       "<style scoped>\n",
       "    .dataframe tbody tr th:only-of-type {\n",
       "        vertical-align: middle;\n",
       "    }\n",
       "\n",
       "    .dataframe tbody tr th {\n",
       "        vertical-align: top;\n",
       "    }\n",
       "\n",
       "    .dataframe thead tr th {\n",
       "        text-align: left;\n",
       "    }\n",
       "</style>\n",
       "<table border=\"1\" class=\"dataframe\">\n",
       "  <thead>\n",
       "    <tr>\n",
       "      <th></th>\n",
       "      <th>LOCALIDAD_TEX</th>\n",
       "      <th>HOGAR_LP</th>\n",
       "    </tr>\n",
       "    <tr>\n",
       "      <th></th>\n",
       "      <th></th>\n",
       "      <th>sum</th>\n",
       "    </tr>\n",
       "  </thead>\n",
       "  <tbody>\n",
       "    <tr>\n",
       "      <td>8</td>\n",
       "      <td>KENNEDY</td>\n",
       "      <td>1321</td>\n",
       "    </tr>\n",
       "    <tr>\n",
       "      <td>18</td>\n",
       "      <td>USME</td>\n",
       "      <td>1247</td>\n",
       "    </tr>\n",
       "    <tr>\n",
       "      <td>5</td>\n",
       "      <td>CIUDAD BOLIVAR</td>\n",
       "      <td>1121</td>\n",
       "    </tr>\n",
       "    <tr>\n",
       "      <td>12</td>\n",
       "      <td>SAN CRISTOBAL</td>\n",
       "      <td>726</td>\n",
       "    </tr>\n",
       "    <tr>\n",
       "      <td>2</td>\n",
       "      <td>BOSA</td>\n",
       "      <td>699</td>\n",
       "    </tr>\n",
       "    <tr>\n",
       "      <td>13</td>\n",
       "      <td>SANTA FE</td>\n",
       "      <td>625</td>\n",
       "    </tr>\n",
       "    <tr>\n",
       "      <td>14</td>\n",
       "      <td>SUBA</td>\n",
       "      <td>549</td>\n",
       "    </tr>\n",
       "    <tr>\n",
       "      <td>11</td>\n",
       "      <td>RAFAEL URIBE URIBE</td>\n",
       "      <td>542</td>\n",
       "    </tr>\n",
       "    <tr>\n",
       "      <td>7</td>\n",
       "      <td>FONTIBON</td>\n",
       "      <td>531</td>\n",
       "    </tr>\n",
       "    <tr>\n",
       "      <td>10</td>\n",
       "      <td>PUENTE ARANDA</td>\n",
       "      <td>452</td>\n",
       "    </tr>\n",
       "    <tr>\n",
       "      <td>6</td>\n",
       "      <td>ENGATIVA</td>\n",
       "      <td>421</td>\n",
       "    </tr>\n",
       "    <tr>\n",
       "      <td>16</td>\n",
       "      <td>TUNJUELITO</td>\n",
       "      <td>410</td>\n",
       "    </tr>\n",
       "    <tr>\n",
       "      <td>17</td>\n",
       "      <td>USAQUEN</td>\n",
       "      <td>350</td>\n",
       "    </tr>\n",
       "    <tr>\n",
       "      <td>15</td>\n",
       "      <td>TEUSAQUILLO</td>\n",
       "      <td>202</td>\n",
       "    </tr>\n",
       "    <tr>\n",
       "      <td>9</td>\n",
       "      <td>LOS MARTIRES</td>\n",
       "      <td>179</td>\n",
       "    </tr>\n",
       "    <tr>\n",
       "      <td>4</td>\n",
       "      <td>CHAPINERO</td>\n",
       "      <td>146</td>\n",
       "    </tr>\n",
       "    <tr>\n",
       "      <td>1</td>\n",
       "      <td>BARRIOS UNIDOS</td>\n",
       "      <td>140</td>\n",
       "    </tr>\n",
       "    <tr>\n",
       "      <td>3</td>\n",
       "      <td>CANDELARIA</td>\n",
       "      <td>140</td>\n",
       "    </tr>\n",
       "    <tr>\n",
       "      <td>0</td>\n",
       "      <td>ANTONIO NARIÑO</td>\n",
       "      <td>126</td>\n",
       "    </tr>\n",
       "  </tbody>\n",
       "</table>\n",
       "</div>"
      ],
      "text/plain": [
       "         LOCALIDAD_TEX HOGAR_LP\n",
       "                            sum\n",
       "8              KENNEDY     1321\n",
       "18                USME     1247\n",
       "5       CIUDAD BOLIVAR     1121\n",
       "12       SAN CRISTOBAL      726\n",
       "2                 BOSA      699\n",
       "13            SANTA FE      625\n",
       "14                SUBA      549\n",
       "11  RAFAEL URIBE URIBE      542\n",
       "7             FONTIBON      531\n",
       "10       PUENTE ARANDA      452\n",
       "6             ENGATIVA      421\n",
       "16          TUNJUELITO      410\n",
       "17             USAQUEN      350\n",
       "15         TEUSAQUILLO      202\n",
       "9         LOS MARTIRES      179\n",
       "4            CHAPINERO      146\n",
       "1       BARRIOS UNIDOS      140\n",
       "3           CANDELARIA      140\n",
       "0       ANTONIO NARIÑO      126"
      ]
     },
     "execution_count": 35,
     "metadata": {},
     "output_type": "execute_result"
    }
   ],
   "source": [
    "dummy=pd.get_dummies(bogota_urbana['HOGAR_LP'])\n",
    "df=df.merge(dummy, left_index=True, right_index=True)\n",
    "HLP=df.groupby('LOCALIDAD_TEX').agg({\"HOGAR_LP\": [\"sum\"]}).reset_index()\n",
    "HLP=HLP.replace('\\t', '',regex=True)\n",
    "HLP=HLP.sort_values(by=[('HOGAR_LP', 'sum')],ascending=False)\n",
    "\n",
    "print(HLP[['HOGAR_LP']].sum())\n",
    "HLP"
   ]
  },
  {
   "cell_type": "markdown",
   "metadata": {},
   "source": [
    "## LINEA DE POBREZA (LI) : Hogares que están por debajo de la línea de indigencia"
   ]
  },
  {
   "cell_type": "code",
   "execution_count": 84,
   "metadata": {},
   "outputs": [
    {
     "data": {
      "text/html": [
       "<div>\n",
       "<style scoped>\n",
       "    .dataframe tbody tr th:only-of-type {\n",
       "        vertical-align: middle;\n",
       "    }\n",
       "\n",
       "    .dataframe tbody tr th {\n",
       "        vertical-align: top;\n",
       "    }\n",
       "\n",
       "    .dataframe thead th {\n",
       "        text-align: right;\n",
       "    }\n",
       "</style>\n",
       "<table border=\"1\" class=\"dataframe\">\n",
       "  <thead>\n",
       "    <tr style=\"text-align: right;\">\n",
       "      <th>HOGAR_LE</th>\n",
       "      <th>LOCALIDAD_TEX</th>\n",
       "      <th>HOGAR_NO_POBRE</th>\n",
       "      <th>HOGAR_POBRE</th>\n",
       "    </tr>\n",
       "  </thead>\n",
       "  <tbody>\n",
       "    <tr>\n",
       "      <td>0</td>\n",
       "      <td>ANTONIO NARIÑO</td>\n",
       "      <td>0.966382</td>\n",
       "      <td>0.033618</td>\n",
       "    </tr>\n",
       "    <tr>\n",
       "      <td>1</td>\n",
       "      <td>BARRIOS UNIDOS</td>\n",
       "      <td>0.960382</td>\n",
       "      <td>0.039618</td>\n",
       "    </tr>\n",
       "    <tr>\n",
       "      <td>2</td>\n",
       "      <td>BOSA</td>\n",
       "      <td>0.942323</td>\n",
       "      <td>0.057677</td>\n",
       "    </tr>\n",
       "    <tr>\n",
       "      <td>3</td>\n",
       "      <td>CANDELARIA</td>\n",
       "      <td>0.900217</td>\n",
       "      <td>0.099783</td>\n",
       "    </tr>\n",
       "    <tr>\n",
       "      <td>4</td>\n",
       "      <td>CHAPINERO</td>\n",
       "      <td>0.956920</td>\n",
       "      <td>0.043080</td>\n",
       "    </tr>\n",
       "    <tr>\n",
       "      <td>5</td>\n",
       "      <td>CIUDAD BOLIVAR</td>\n",
       "      <td>0.920685</td>\n",
       "      <td>0.079315</td>\n",
       "    </tr>\n",
       "    <tr>\n",
       "      <td>6</td>\n",
       "      <td>ENGATIVA</td>\n",
       "      <td>0.965893</td>\n",
       "      <td>0.034107</td>\n",
       "    </tr>\n",
       "    <tr>\n",
       "      <td>7</td>\n",
       "      <td>FONTIBON</td>\n",
       "      <td>0.957231</td>\n",
       "      <td>0.042769</td>\n",
       "    </tr>\n",
       "    <tr>\n",
       "      <td>8</td>\n",
       "      <td>KENNEDY</td>\n",
       "      <td>0.947802</td>\n",
       "      <td>0.052198</td>\n",
       "    </tr>\n",
       "    <tr>\n",
       "      <td>9</td>\n",
       "      <td>LOS MARTIRES</td>\n",
       "      <td>0.943995</td>\n",
       "      <td>0.056005</td>\n",
       "    </tr>\n",
       "    <tr>\n",
       "      <td>10</td>\n",
       "      <td>PUENTE ARANDA</td>\n",
       "      <td>0.943152</td>\n",
       "      <td>0.056848</td>\n",
       "    </tr>\n",
       "    <tr>\n",
       "      <td>11</td>\n",
       "      <td>RAFAEL URIBE URIBE</td>\n",
       "      <td>0.943150</td>\n",
       "      <td>0.056850</td>\n",
       "    </tr>\n",
       "    <tr>\n",
       "      <td>12</td>\n",
       "      <td>SAN CRISTOBAL</td>\n",
       "      <td>0.932342</td>\n",
       "      <td>0.067658</td>\n",
       "    </tr>\n",
       "    <tr>\n",
       "      <td>13</td>\n",
       "      <td>SANTA FE</td>\n",
       "      <td>0.911645</td>\n",
       "      <td>0.088355</td>\n",
       "    </tr>\n",
       "    <tr>\n",
       "      <td>14</td>\n",
       "      <td>SUBA</td>\n",
       "      <td>0.962498</td>\n",
       "      <td>0.037502</td>\n",
       "    </tr>\n",
       "    <tr>\n",
       "      <td>15</td>\n",
       "      <td>TEUSAQUILLO</td>\n",
       "      <td>0.962375</td>\n",
       "      <td>0.037625</td>\n",
       "    </tr>\n",
       "    <tr>\n",
       "      <td>16</td>\n",
       "      <td>TUNJUELITO</td>\n",
       "      <td>0.888889</td>\n",
       "      <td>0.111111</td>\n",
       "    </tr>\n",
       "    <tr>\n",
       "      <td>17</td>\n",
       "      <td>USAQUEN</td>\n",
       "      <td>0.957053</td>\n",
       "      <td>0.042947</td>\n",
       "    </tr>\n",
       "    <tr>\n",
       "      <td>18</td>\n",
       "      <td>USME</td>\n",
       "      <td>0.851123</td>\n",
       "      <td>0.148877</td>\n",
       "    </tr>\n",
       "  </tbody>\n",
       "</table>\n",
       "</div>"
      ],
      "text/plain": [
       "HOGAR_LE       LOCALIDAD_TEX  HOGAR_NO_POBRE  HOGAR_POBRE\n",
       "0             ANTONIO NARIÑO        0.966382     0.033618\n",
       "1             BARRIOS UNIDOS        0.960382     0.039618\n",
       "2                       BOSA        0.942323     0.057677\n",
       "3                 CANDELARIA        0.900217     0.099783\n",
       "4                  CHAPINERO        0.956920     0.043080\n",
       "5             CIUDAD BOLIVAR        0.920685     0.079315\n",
       "6                   ENGATIVA        0.965893     0.034107\n",
       "7                   FONTIBON        0.957231     0.042769\n",
       "8                    KENNEDY        0.947802     0.052198\n",
       "9               LOS MARTIRES        0.943995     0.056005\n",
       "10             PUENTE ARANDA        0.943152     0.056848\n",
       "11        RAFAEL URIBE URIBE        0.943150     0.056850\n",
       "12             SAN CRISTOBAL        0.932342     0.067658\n",
       "13                  SANTA FE        0.911645     0.088355\n",
       "14                      SUBA        0.962498     0.037502\n",
       "15               TEUSAQUILLO        0.962375     0.037625\n",
       "16                TUNJUELITO        0.888889     0.111111\n",
       "17                   USAQUEN        0.957053     0.042947\n",
       "18                      USME        0.851123     0.148877"
      ]
     },
     "execution_count": 84,
     "metadata": {},
     "output_type": "execute_result"
    }
   ],
   "source": [
    "LI=pd.crosstab(bogota_urbana['LOCALIDAD_TEX'],bogota_urbana['HOGAR_LE']).apply(lambda r: r/r.sum(), axis=1).reset_index()\n",
    "LI=LI.rename(columns={0:'HOGAR_NO_POBRE', 1:'HOGAR_POBRE'})\n",
    "LI=LI.replace('\\t', '',regex=True)\n",
    "LI"
   ]
  },
  {
   "cell_type": "code",
   "execution_count": 85,
   "metadata": {},
   "outputs": [
    {
     "name": "stdout",
     "output_type": "stream",
     "text": [
      "Proporción de hogares LI: 0.057743837084673094\n"
     ]
    }
   ],
   "source": [
    "df=bogota_urbana[['HOGAR_LE','LOCALIDAD_TEX']]\n",
    "LI=sum(df.HOGAR_LE)/len(df.HOGAR_LE)\n",
    "print('Proporción de hogares LI:',LI)"
   ]
  },
  {
   "cell_type": "code",
   "execution_count": 86,
   "metadata": {},
   "outputs": [
    {
     "data": {
      "text/html": [
       "<div>\n",
       "<style scoped>\n",
       "    .dataframe tbody tr th:only-of-type {\n",
       "        vertical-align: middle;\n",
       "    }\n",
       "\n",
       "    .dataframe tbody tr th {\n",
       "        vertical-align: top;\n",
       "    }\n",
       "\n",
       "    .dataframe thead tr th {\n",
       "        text-align: left;\n",
       "    }\n",
       "</style>\n",
       "<table border=\"1\" class=\"dataframe\">\n",
       "  <thead>\n",
       "    <tr>\n",
       "      <th></th>\n",
       "      <th>LOCALIDAD_TEX</th>\n",
       "      <th>HOGAR_LE</th>\n",
       "    </tr>\n",
       "    <tr>\n",
       "      <th></th>\n",
       "      <th></th>\n",
       "      <th>sum</th>\n",
       "    </tr>\n",
       "  </thead>\n",
       "  <tbody>\n",
       "    <tr>\n",
       "      <td>18</td>\n",
       "      <td>USME</td>\n",
       "      <td>537</td>\n",
       "    </tr>\n",
       "    <tr>\n",
       "      <td>8</td>\n",
       "      <td>KENNEDY</td>\n",
       "      <td>475</td>\n",
       "    </tr>\n",
       "    <tr>\n",
       "      <td>5</td>\n",
       "      <td>CIUDAD BOLIVAR</td>\n",
       "      <td>380</td>\n",
       "    </tr>\n",
       "    <tr>\n",
       "      <td>13</td>\n",
       "      <td>SANTA FE</td>\n",
       "      <td>305</td>\n",
       "    </tr>\n",
       "    <tr>\n",
       "      <td>14</td>\n",
       "      <td>SUBA</td>\n",
       "      <td>290</td>\n",
       "    </tr>\n",
       "    <tr>\n",
       "      <td>7</td>\n",
       "      <td>FONTIBON</td>\n",
       "      <td>278</td>\n",
       "    </tr>\n",
       "    <tr>\n",
       "      <td>12</td>\n",
       "      <td>SAN CRISTOBAL</td>\n",
       "      <td>273</td>\n",
       "    </tr>\n",
       "    <tr>\n",
       "      <td>2</td>\n",
       "      <td>BOSA</td>\n",
       "      <td>219</td>\n",
       "    </tr>\n",
       "    <tr>\n",
       "      <td>17</td>\n",
       "      <td>USAQUEN</td>\n",
       "      <td>204</td>\n",
       "    </tr>\n",
       "    <tr>\n",
       "      <td>16</td>\n",
       "      <td>TUNJUELITO</td>\n",
       "      <td>200</td>\n",
       "    </tr>\n",
       "    <tr>\n",
       "      <td>10</td>\n",
       "      <td>PUENTE ARANDA</td>\n",
       "      <td>198</td>\n",
       "    </tr>\n",
       "    <tr>\n",
       "      <td>6</td>\n",
       "      <td>ENGATIVA</td>\n",
       "      <td>191</td>\n",
       "    </tr>\n",
       "    <tr>\n",
       "      <td>11</td>\n",
       "      <td>RAFAEL URIBE URIBE</td>\n",
       "      <td>183</td>\n",
       "    </tr>\n",
       "    <tr>\n",
       "      <td>15</td>\n",
       "      <td>TEUSAQUILLO</td>\n",
       "      <td>166</td>\n",
       "    </tr>\n",
       "    <tr>\n",
       "      <td>9</td>\n",
       "      <td>LOS MARTIRES</td>\n",
       "      <td>97</td>\n",
       "    </tr>\n",
       "    <tr>\n",
       "      <td>3</td>\n",
       "      <td>CANDELARIA</td>\n",
       "      <td>92</td>\n",
       "    </tr>\n",
       "    <tr>\n",
       "      <td>1</td>\n",
       "      <td>BARRIOS UNIDOS</td>\n",
       "      <td>83</td>\n",
       "    </tr>\n",
       "    <tr>\n",
       "      <td>4</td>\n",
       "      <td>CHAPINERO</td>\n",
       "      <td>80</td>\n",
       "    </tr>\n",
       "    <tr>\n",
       "      <td>0</td>\n",
       "      <td>ANTONIO NARIÑO</td>\n",
       "      <td>59</td>\n",
       "    </tr>\n",
       "  </tbody>\n",
       "</table>\n",
       "</div>"
      ],
      "text/plain": [
       "         LOCALIDAD_TEX HOGAR_LE\n",
       "                            sum\n",
       "18                USME      537\n",
       "8              KENNEDY      475\n",
       "5       CIUDAD BOLIVAR      380\n",
       "13            SANTA FE      305\n",
       "14                SUBA      290\n",
       "7             FONTIBON      278\n",
       "12       SAN CRISTOBAL      273\n",
       "2                 BOSA      219\n",
       "17             USAQUEN      204\n",
       "16          TUNJUELITO      200\n",
       "10       PUENTE ARANDA      198\n",
       "6             ENGATIVA      191\n",
       "11  RAFAEL URIBE URIBE      183\n",
       "15         TEUSAQUILLO      166\n",
       "9         LOS MARTIRES       97\n",
       "3           CANDELARIA       92\n",
       "1       BARRIOS UNIDOS       83\n",
       "4            CHAPINERO       80\n",
       "0       ANTONIO NARIÑO       59"
      ]
     },
     "execution_count": 86,
     "metadata": {},
     "output_type": "execute_result"
    }
   ],
   "source": [
    "dummy=pd.get_dummies(bogota_urbana['HOGAR_LE'])\n",
    "df=df.merge(dummy, left_index=True, right_index=True)\n",
    "HLE=df.groupby('LOCALIDAD_TEX').agg({\"HOGAR_LE\": [\"sum\"]}).reset_index()\n",
    "HLE=HLE.replace('\\t', '',regex=True)\n",
    "HLE=HLE.sort_values(by=[('HOGAR_LE', 'sum')],ascending=False)\n",
    "HLE\n"
   ]
  },
  {
   "cell_type": "markdown",
   "metadata": {},
   "source": [
    "# ÍNDICE DE POBREZA MULTIDIMENSIONAL"
   ]
  },
  {
   "cell_type": "code",
   "execution_count": 71,
   "metadata": {},
   "outputs": [],
   "source": [
    "# HOGAR_POBRE POR INDICE DE POBRE MULTIDIMENSIONAL (IPM)\n",
    "prop=pd.crosstab(bogota_urbana['LOCALIDAD_TEX'],bogota_urbana['HOGAR_POBRE_IPM']).apply(lambda r: r/r.sum(), axis=1).reset_index()\n",
    "prop=prop.rename(columns={0:'HOGAR_NO_POBRE', 1:'HOGAR_POBRE'})\n",
    "prop=prop.replace('\\t', '',regex=True)  "
   ]
  },
  {
   "cell_type": "code",
   "execution_count": 72,
   "metadata": {},
   "outputs": [
    {
     "data": {
      "text/plain": [
       "<matplotlib.axes._subplots.AxesSubplot at 0x1cb3247eb08>"
      ]
     },
     "execution_count": 72,
     "metadata": {},
     "output_type": "execute_result"
    },
    {
     "data": {
      "image/png": "[encoded data removed]",
      "text/plain": [
       "<Figure size 720x576 with 1 Axes>"
      ]
     },
     "metadata": {
      "needs_background": "light"
     },
     "output_type": "display_data"
    }
   ],
   "source": [
    "#prop=prop.sort_values(by=['HOGAR_POBRE'],ascending=False)\n",
    "prop.groupby('LOCALIDAD_TEX')[['HOGAR_POBRE']].mean().sort_values(by=['HOGAR_POBRE'],ascending=True).plot(kind='barh',figsize=(10,8))"
   ]
  },
  {
   "cell_type": "code",
   "execution_count": 74,
   "metadata": {},
   "outputs": [
    {
     "name": "stdout",
     "output_type": "stream",
     "text": [
      "Proporción de hogares IPM: 0.037942122186495175\n"
     ]
    }
   ],
   "source": [
    "df=bogota_urbana[['HOGAR_POBRE_IPM','LOCALIDAD_TEX']]\n",
    "IPM=sum(df.HOGAR_POBRE_IPM)/len(df.HOGAR_POBRE_IPM)\n",
    "print('Proporción de hogares IPM:',IPM)"
   ]
  },
  {
   "cell_type": "markdown",
   "metadata": {},
   "source": [
    "# --------------------------------------------------------------------------------------------------------------\n",
    "\n",
    "\n"
   ]
  },
  {
   "cell_type": "markdown",
   "metadata": {},
   "source": [
    "# CONDICIONES EDUCATIVAS DEL HOGAR"
   ]
  },
  {
   "cell_type": "code",
   "execution_count": 12,
   "metadata": {},
   "outputs": [],
   "source": [
    "# IPM ANALFABETISMO\n",
    "prop1=pd.crosstab(bogota_urbana['LOCALIDAD_TEX'],bogota_urbana['IPM_ANALFABET']).apply(lambda r: r/r.sum(), axis=1).reset_index()\n",
    "prop1=prop1.rename(columns={0:'HOGAR_SIN_PRIVACION', 1:'HOGAR_CON_PRIVACION'})\n",
    "prop1=prop1.replace('\\t', '',regex=True)"
   ]
  },
  {
   "cell_type": "code",
   "execution_count": 294,
   "metadata": {},
   "outputs": [
    {
     "data": {
      "text/plain": [
       "<matplotlib.axes._subplots.AxesSubplot at 0x19be9635148>"
      ]
     },
     "execution_count": 294,
     "metadata": {},
     "output_type": "execute_result"
    },
    {
     "data": {
      "image/png": "[encoded data removed]",
      "text/plain": [
       "<Figure size 720x576 with 1 Axes>"
      ]
     },
     "metadata": {
      "needs_background": "light"
     },
     "output_type": "display_data"
    }
   ],
   "source": [
    "prop1.groupby(\"LOCALIDAD_TEX\")[[\"HOGAR_CON_PRIVACION\"]].mean().sort_values(by=[\"HOGAR_CON_PRIVACION\"],ascending=True).plot(kind='barh', figsize=(10,8))"
   ]
  },
  {
   "cell_type": "code",
   "execution_count": 14,
   "metadata": {},
   "outputs": [
    {
     "data": {
      "text/html": [
       "<div>\n",
       "<style scoped>\n",
       "    .dataframe tbody tr th:only-of-type {\n",
       "        vertical-align: middle;\n",
       "    }\n",
       "\n",
       "    .dataframe tbody tr th {\n",
       "        vertical-align: top;\n",
       "    }\n",
       "\n",
       "    .dataframe thead th {\n",
       "        text-align: right;\n",
       "    }\n",
       "</style>\n",
       "<table border=\"1\" class=\"dataframe\">\n",
       "  <thead>\n",
       "    <tr style=\"text-align: right;\">\n",
       "      <th>IPM_BAJO_LOGRO_ED</th>\n",
       "      <th>LOCALIDAD_TEX</th>\n",
       "      <th>HOGAR_SIN_PRIVACION</th>\n",
       "      <th>HOGAR_CON_PRIVACION</th>\n",
       "    </tr>\n",
       "  </thead>\n",
       "  <tbody>\n",
       "    <tr>\n",
       "      <td>0</td>\n",
       "      <td>ANTONIO NARIÑO</td>\n",
       "      <td>0.831909</td>\n",
       "      <td>0.168091</td>\n",
       "    </tr>\n",
       "    <tr>\n",
       "      <td>1</td>\n",
       "      <td>BARRIOS UNIDOS</td>\n",
       "      <td>0.871122</td>\n",
       "      <td>0.128878</td>\n",
       "    </tr>\n",
       "    <tr>\n",
       "      <td>2</td>\n",
       "      <td>BOSA</td>\n",
       "      <td>0.675533</td>\n",
       "      <td>0.324467</td>\n",
       "    </tr>\n",
       "    <tr>\n",
       "      <td>3</td>\n",
       "      <td>CANDELARIA</td>\n",
       "      <td>0.816703</td>\n",
       "      <td>0.183297</td>\n",
       "    </tr>\n",
       "    <tr>\n",
       "      <td>4</td>\n",
       "      <td>CHAPINERO</td>\n",
       "      <td>0.836295</td>\n",
       "      <td>0.163705</td>\n",
       "    </tr>\n",
       "    <tr>\n",
       "      <td>5</td>\n",
       "      <td>CIUDAD BOLIVAR</td>\n",
       "      <td>0.581090</td>\n",
       "      <td>0.418910</td>\n",
       "    </tr>\n",
       "    <tr>\n",
       "      <td>6</td>\n",
       "      <td>ENGATIVA</td>\n",
       "      <td>0.837500</td>\n",
       "      <td>0.162500</td>\n",
       "    </tr>\n",
       "    <tr>\n",
       "      <td>7</td>\n",
       "      <td>FONTIBON</td>\n",
       "      <td>0.860923</td>\n",
       "      <td>0.139077</td>\n",
       "    </tr>\n",
       "    <tr>\n",
       "      <td>8</td>\n",
       "      <td>KENNEDY</td>\n",
       "      <td>0.754725</td>\n",
       "      <td>0.245275</td>\n",
       "    </tr>\n",
       "    <tr>\n",
       "      <td>9</td>\n",
       "      <td>LOS MARTIRES</td>\n",
       "      <td>0.764434</td>\n",
       "      <td>0.235566</td>\n",
       "    </tr>\n",
       "    <tr>\n",
       "      <td>10</td>\n",
       "      <td>PUENTE ARANDA</td>\n",
       "      <td>0.762274</td>\n",
       "      <td>0.237726</td>\n",
       "    </tr>\n",
       "    <tr>\n",
       "      <td>11</td>\n",
       "      <td>RAFAEL URIBE URIBE</td>\n",
       "      <td>0.647095</td>\n",
       "      <td>0.352905</td>\n",
       "    </tr>\n",
       "    <tr>\n",
       "      <td>12</td>\n",
       "      <td>SAN CRISTOBAL</td>\n",
       "      <td>0.635688</td>\n",
       "      <td>0.364312</td>\n",
       "    </tr>\n",
       "    <tr>\n",
       "      <td>13</td>\n",
       "      <td>SANTA FE</td>\n",
       "      <td>0.710892</td>\n",
       "      <td>0.289108</td>\n",
       "    </tr>\n",
       "    <tr>\n",
       "      <td>14</td>\n",
       "      <td>SUBA</td>\n",
       "      <td>0.880512</td>\n",
       "      <td>0.119488</td>\n",
       "    </tr>\n",
       "    <tr>\n",
       "      <td>15</td>\n",
       "      <td>TEUSAQUILLO</td>\n",
       "      <td>0.961242</td>\n",
       "      <td>0.038758</td>\n",
       "    </tr>\n",
       "    <tr>\n",
       "      <td>16</td>\n",
       "      <td>TUNJUELITO</td>\n",
       "      <td>0.668889</td>\n",
       "      <td>0.331111</td>\n",
       "    </tr>\n",
       "    <tr>\n",
       "      <td>17</td>\n",
       "      <td>USAQUEN</td>\n",
       "      <td>0.885474</td>\n",
       "      <td>0.114526</td>\n",
       "    </tr>\n",
       "    <tr>\n",
       "      <td>18</td>\n",
       "      <td>USME</td>\n",
       "      <td>0.537843</td>\n",
       "      <td>0.462157</td>\n",
       "    </tr>\n",
       "  </tbody>\n",
       "</table>\n",
       "</div>"
      ],
      "text/plain": [
       "IPM_BAJO_LOGRO_ED       LOCALIDAD_TEX  HOGAR_SIN_PRIVACION  \\\n",
       "0                      ANTONIO NARIÑO             0.831909   \n",
       "1                      BARRIOS UNIDOS             0.871122   \n",
       "2                                BOSA             0.675533   \n",
       "3                          CANDELARIA             0.816703   \n",
       "4                           CHAPINERO             0.836295   \n",
       "5                      CIUDAD BOLIVAR             0.581090   \n",
       "6                            ENGATIVA             0.837500   \n",
       "7                            FONTIBON             0.860923   \n",
       "8                             KENNEDY             0.754725   \n",
       "9                        LOS MARTIRES             0.764434   \n",
       "10                      PUENTE ARANDA             0.762274   \n",
       "11                 RAFAEL URIBE URIBE             0.647095   \n",
       "12                      SAN CRISTOBAL             0.635688   \n",
       "13                           SANTA FE             0.710892   \n",
       "14                               SUBA             0.880512   \n",
       "15                        TEUSAQUILLO             0.961242   \n",
       "16                         TUNJUELITO             0.668889   \n",
       "17                            USAQUEN             0.885474   \n",
       "18                               USME             0.537843   \n",
       "\n",
       "IPM_BAJO_LOGRO_ED  HOGAR_CON_PRIVACION  \n",
       "0                             0.168091  \n",
       "1                             0.128878  \n",
       "2                             0.324467  \n",
       "3                             0.183297  \n",
       "4                             0.163705  \n",
       "5                             0.418910  \n",
       "6                             0.162500  \n",
       "7                             0.139077  \n",
       "8                             0.245275  \n",
       "9                             0.235566  \n",
       "10                            0.237726  \n",
       "11                            0.352905  \n",
       "12                            0.364312  \n",
       "13                            0.289108  \n",
       "14                            0.119488  \n",
       "15                            0.038758  \n",
       "16                            0.331111  \n",
       "17                            0.114526  \n",
       "18                            0.462157  "
      ]
     },
     "execution_count": 14,
     "metadata": {},
     "output_type": "execute_result"
    }
   ],
   "source": [
    "# IPM BAJO LOGRO_ED\n",
    "prop6=pd.crosstab(bogota_urbana['LOCALIDAD_TEX'],bogota_urbana['IPM_BAJO_LOGRO_ED']).apply(lambda r: r/r.sum(), axis=1).reset_index()\n",
    "prop6=prop6.rename(columns={0:'HOGAR_SIN_PRIVACION', 1:'HOGAR_CON_PRIVACION'})\n",
    "prop6=prop6.replace('\\t', '',regex=True)\n",
    "prop6"
   ]
  },
  {
   "cell_type": "code",
   "execution_count": 15,
   "metadata": {},
   "outputs": [
    {
     "data": {
      "text/plain": [
       "<matplotlib.axes._subplots.AxesSubplot at 0x1a24209bec8>"
      ]
     },
     "execution_count": 15,
     "metadata": {},
     "output_type": "execute_result"
    },
    {
     "data": {
      "image/png": "[encoded data removed]",
      "text/plain": [
       "<Figure size 720x576 with 1 Axes>"
      ]
     },
     "metadata": {
      "needs_background": "light"
     },
     "output_type": "display_data"
    }
   ],
   "source": [
    "prop6.groupby(\"LOCALIDAD_TEX\")[[\"HOGAR_CON_PRIVACION\"]].mean().sort_values(by=[\"HOGAR_CON_PRIVACION\"],ascending=True).plot(kind='barh', figsize=(10,8))"
   ]
  },
  {
   "cell_type": "code",
   "execution_count": 113,
   "metadata": {},
   "outputs": [
    {
     "name": "stdout",
     "output_type": "stream",
     "text": [
      "Proporción de hogares por bajo logro educativo: 0.22863076098606644\n"
     ]
    }
   ],
   "source": [
    "df=bogota_urbana[['IPM_BAJO_LOGRO_ED','LOCALIDAD_TEX']]\n",
    "IPM_BAJO_LOGRO_ED=sum(df.IPM_BAJO_LOGRO_ED)/len(df.IPM_BAJO_LOGRO_ED)\n",
    "print('Proporción de hogares por bajo logro educativo:',IPM_BAJO_LOGRO_ED)\n"
   ]
  },
  {
   "cell_type": "code",
   "execution_count": 116,
   "metadata": {},
   "outputs": [
    {
     "data": {
      "text/html": [
       "<div>\n",
       "<style scoped>\n",
       "    .dataframe tbody tr th:only-of-type {\n",
       "        vertical-align: middle;\n",
       "    }\n",
       "\n",
       "    .dataframe tbody tr th {\n",
       "        vertical-align: top;\n",
       "    }\n",
       "\n",
       "    .dataframe thead tr th {\n",
       "        text-align: left;\n",
       "    }\n",
       "</style>\n",
       "<table border=\"1\" class=\"dataframe\">\n",
       "  <thead>\n",
       "    <tr>\n",
       "      <th></th>\n",
       "      <th>LOCALIDAD_TEX</th>\n",
       "      <th>IPM_BAJO_LOGRO_ED</th>\n",
       "    </tr>\n",
       "    <tr>\n",
       "      <th></th>\n",
       "      <th></th>\n",
       "      <th>sum</th>\n",
       "    </tr>\n",
       "  </thead>\n",
       "  <tbody>\n",
       "    <tr>\n",
       "      <td>8</td>\n",
       "      <td>KENNEDY</td>\n",
       "      <td>2232</td>\n",
       "    </tr>\n",
       "    <tr>\n",
       "      <td>5</td>\n",
       "      <td>CIUDAD BOLIVAR</td>\n",
       "      <td>2007</td>\n",
       "    </tr>\n",
       "    <tr>\n",
       "      <td>18</td>\n",
       "      <td>USME</td>\n",
       "      <td>1667</td>\n",
       "    </tr>\n",
       "    <tr>\n",
       "      <td>12</td>\n",
       "      <td>SAN CRISTOBAL</td>\n",
       "      <td>1470</td>\n",
       "    </tr>\n",
       "    <tr>\n",
       "      <td>2</td>\n",
       "      <td>BOSA</td>\n",
       "      <td>1232</td>\n",
       "    </tr>\n",
       "    <tr>\n",
       "      <td>11</td>\n",
       "      <td>RAFAEL URIBE URIBE</td>\n",
       "      <td>1136</td>\n",
       "    </tr>\n",
       "    <tr>\n",
       "      <td>13</td>\n",
       "      <td>SANTA FE</td>\n",
       "      <td>998</td>\n",
       "    </tr>\n",
       "    <tr>\n",
       "      <td>14</td>\n",
       "      <td>SUBA</td>\n",
       "      <td>924</td>\n",
       "    </tr>\n",
       "    <tr>\n",
       "      <td>6</td>\n",
       "      <td>ENGATIVA</td>\n",
       "      <td>910</td>\n",
       "    </tr>\n",
       "    <tr>\n",
       "      <td>7</td>\n",
       "      <td>FONTIBON</td>\n",
       "      <td>904</td>\n",
       "    </tr>\n",
       "    <tr>\n",
       "      <td>10</td>\n",
       "      <td>PUENTE ARANDA</td>\n",
       "      <td>828</td>\n",
       "    </tr>\n",
       "    <tr>\n",
       "      <td>16</td>\n",
       "      <td>TUNJUELITO</td>\n",
       "      <td>596</td>\n",
       "    </tr>\n",
       "    <tr>\n",
       "      <td>17</td>\n",
       "      <td>USAQUEN</td>\n",
       "      <td>544</td>\n",
       "    </tr>\n",
       "    <tr>\n",
       "      <td>9</td>\n",
       "      <td>LOS MARTIRES</td>\n",
       "      <td>408</td>\n",
       "    </tr>\n",
       "    <tr>\n",
       "      <td>4</td>\n",
       "      <td>CHAPINERO</td>\n",
       "      <td>304</td>\n",
       "    </tr>\n",
       "    <tr>\n",
       "      <td>0</td>\n",
       "      <td>ANTONIO NARIÑO</td>\n",
       "      <td>295</td>\n",
       "    </tr>\n",
       "    <tr>\n",
       "      <td>1</td>\n",
       "      <td>BARRIOS UNIDOS</td>\n",
       "      <td>270</td>\n",
       "    </tr>\n",
       "    <tr>\n",
       "      <td>15</td>\n",
       "      <td>TEUSAQUILLO</td>\n",
       "      <td>171</td>\n",
       "    </tr>\n",
       "    <tr>\n",
       "      <td>3</td>\n",
       "      <td>CANDELARIA</td>\n",
       "      <td>169</td>\n",
       "    </tr>\n",
       "  </tbody>\n",
       "</table>\n",
       "</div>"
      ],
      "text/plain": [
       "         LOCALIDAD_TEX IPM_BAJO_LOGRO_ED\n",
       "                                     sum\n",
       "8              KENNEDY              2232\n",
       "5       CIUDAD BOLIVAR              2007\n",
       "18                USME              1667\n",
       "12       SAN CRISTOBAL              1470\n",
       "2                 BOSA              1232\n",
       "11  RAFAEL URIBE URIBE              1136\n",
       "13            SANTA FE               998\n",
       "14                SUBA               924\n",
       "6             ENGATIVA               910\n",
       "7             FONTIBON               904\n",
       "10       PUENTE ARANDA               828\n",
       "16          TUNJUELITO               596\n",
       "17             USAQUEN               544\n",
       "9         LOS MARTIRES               408\n",
       "4            CHAPINERO               304\n",
       "0       ANTONIO NARIÑO               295\n",
       "1       BARRIOS UNIDOS               270\n",
       "15         TEUSAQUILLO               171\n",
       "3           CANDELARIA               169"
      ]
     },
     "execution_count": 116,
     "metadata": {},
     "output_type": "execute_result"
    }
   ],
   "source": [
    "dummy=pd.get_dummies(bogota_urbana['IPM_BAJO_LOGRO_ED'])\n",
    "df=df.merge(dummy, left_index=True, right_index=True)\n",
    "BLED=df.groupby('LOCALIDAD_TEX').agg({\"IPM_BAJO_LOGRO_ED\": [\"sum\"]}).reset_index()\n",
    "BLED=BLED.replace('\\t', '',regex=True)\n",
    "BLED=BLED.sort_values(by=[('IPM_BAJO_LOGRO_ED', 'sum')],ascending=False)\n",
    "BLED"
   ]
  },
  {
   "cell_type": "code",
   "execution_count": 31,
   "metadata": {},
   "outputs": [],
   "source": [
    "#BLED.groupby(by=['LOCALIDAD_TEX'])[[('IPM_BAJO_LOGRO_ED', 'sum')]].sum().plot(kind='barh', figsize=(10,8))"
   ]
  },
  {
   "cell_type": "code",
   "execution_count": null,
   "metadata": {},
   "outputs": [],
   "source": []
  },
  {
   "cell_type": "markdown",
   "metadata": {},
   "source": [
    "# CONDICIONES DE LA NIÑEZ Y LA JUVENTUD"
   ]
  },
  {
   "cell_type": "code",
   "execution_count": 39,
   "metadata": {},
   "outputs": [],
   "source": [
    "# INASISTENCIA ESCOLAR\n",
    "prop7=pd.crosstab(bogota_urbana['LOCALIDAD_TEX'],bogota_urbana['IPM_INASISTENCIA_ESC']).apply(lambda r: r/r.sum(), axis=1).reset_index()\n",
    "prop7=prop7.rename(columns={0:'HOGAR_SIN_PRIVACION', 1:'HOGAR_CON_PRIVACION'})\n",
    "prop7=prop7.replace('\\t', '',regex=True)"
   ]
  },
  {
   "cell_type": "code",
   "execution_count": 40,
   "metadata": {},
   "outputs": [
    {
     "data": {
      "text/plain": [
       "<matplotlib.axes._subplots.AxesSubplot at 0x1a255e02508>"
      ]
     },
     "execution_count": 40,
     "metadata": {},
     "output_type": "execute_result"
    },
    {
     "data": {
      "image/png": "[encoded data removed]",
      "text/plain": [
       "<Figure size 720x576 with 1 Axes>"
      ]
     },
     "metadata": {
      "needs_background": "light"
     },
     "output_type": "display_data"
    }
   ],
   "source": [
    "prop7.groupby(\"LOCALIDAD_TEX\")[[\"HOGAR_CON_PRIVACION\"]].mean().sort_values(by=[\"HOGAR_CON_PRIVACION\"],ascending=True).plot(kind='barh', figsize=(10,8))"
   ]
  },
  {
   "cell_type": "code",
   "execution_count": 58,
   "metadata": {},
   "outputs": [
    {
     "name": "stdout",
     "output_type": "stream",
     "text": [
      "proporcion 0.010396570203644158\n"
     ]
    }
   ],
   "source": [
    "df=bogota_urbana[['IPM_INASISTENCIA_ESC','LOCALIDAD_TEX']]\n",
    "IPM_INASISTENCIA_ESC=sum(df.IPM_INASISTENCIA_ESC)/len(df.IPM_INASISTENCIA_ESC)\n",
    "print('proporcion',IPM_INASISTENCIA_ESC)"
   ]
  },
  {
   "cell_type": "code",
   "execution_count": 59,
   "metadata": {},
   "outputs": [],
   "source": [
    "dummy=pd.get_dummies(bogota_urbana['IPM_INASISTENCIA_ESC'])\n",
    "df=df.merge(dummy, left_index=True, right_index=True)\n",
    "INA_ESC=df.groupby('LOCALIDAD_TEX').agg({\"IPM_INASISTENCIA_ESC\": [\"sum\"]}).reset_index()\n",
    "INA_ESC=INA_ESC.replace('\\t', '',regex=True)\n",
    "INA_ESC=INA_ESC.sort_values(by=[('IPM_INASISTENCIA_ESC', 'sum')],ascending=False)\n",
    "\n",
    "#print(INA_ESC[('IPM_BAJO_LOGRO_ED','sum')].sum())\n"
   ]
  },
  {
   "cell_type": "code",
   "execution_count": 60,
   "metadata": {},
   "outputs": [
    {
     "data": {
      "text/html": [
       "<div>\n",
       "<style scoped>\n",
       "    .dataframe tbody tr th:only-of-type {\n",
       "        vertical-align: middle;\n",
       "    }\n",
       "\n",
       "    .dataframe tbody tr th {\n",
       "        vertical-align: top;\n",
       "    }\n",
       "\n",
       "    .dataframe thead tr th {\n",
       "        text-align: left;\n",
       "    }\n",
       "</style>\n",
       "<table border=\"1\" class=\"dataframe\">\n",
       "  <thead>\n",
       "    <tr>\n",
       "      <th></th>\n",
       "      <th>LOCALIDAD_TEX</th>\n",
       "      <th>IPM_INASISTENCIA_ESC</th>\n",
       "    </tr>\n",
       "    <tr>\n",
       "      <th></th>\n",
       "      <th></th>\n",
       "      <th>sum</th>\n",
       "    </tr>\n",
       "  </thead>\n",
       "  <tbody>\n",
       "    <tr>\n",
       "      <td>8</td>\n",
       "      <td>KENNEDY</td>\n",
       "      <td>120</td>\n",
       "    </tr>\n",
       "    <tr>\n",
       "      <td>5</td>\n",
       "      <td>CIUDAD BOLIVAR</td>\n",
       "      <td>100</td>\n",
       "    </tr>\n",
       "    <tr>\n",
       "      <td>2</td>\n",
       "      <td>BOSA</td>\n",
       "      <td>92</td>\n",
       "    </tr>\n",
       "    <tr>\n",
       "      <td>18</td>\n",
       "      <td>USME</td>\n",
       "      <td>90</td>\n",
       "    </tr>\n",
       "    <tr>\n",
       "      <td>14</td>\n",
       "      <td>SUBA</td>\n",
       "      <td>54</td>\n",
       "    </tr>\n",
       "    <tr>\n",
       "      <td>12</td>\n",
       "      <td>SAN CRISTOBAL</td>\n",
       "      <td>50</td>\n",
       "    </tr>\n",
       "    <tr>\n",
       "      <td>11</td>\n",
       "      <td>RAFAEL URIBE URIBE</td>\n",
       "      <td>46</td>\n",
       "    </tr>\n",
       "    <tr>\n",
       "      <td>7</td>\n",
       "      <td>FONTIBON</td>\n",
       "      <td>42</td>\n",
       "    </tr>\n",
       "    <tr>\n",
       "      <td>13</td>\n",
       "      <td>SANTA FE</td>\n",
       "      <td>34</td>\n",
       "    </tr>\n",
       "    <tr>\n",
       "      <td>10</td>\n",
       "      <td>PUENTE ARANDA</td>\n",
       "      <td>29</td>\n",
       "    </tr>\n",
       "    <tr>\n",
       "      <td>6</td>\n",
       "      <td>ENGATIVA</td>\n",
       "      <td>25</td>\n",
       "    </tr>\n",
       "    <tr>\n",
       "      <td>17</td>\n",
       "      <td>USAQUEN</td>\n",
       "      <td>23</td>\n",
       "    </tr>\n",
       "    <tr>\n",
       "      <td>16</td>\n",
       "      <td>TUNJUELITO</td>\n",
       "      <td>18</td>\n",
       "    </tr>\n",
       "    <tr>\n",
       "      <td>0</td>\n",
       "      <td>ANTONIO NARIÑO</td>\n",
       "      <td>11</td>\n",
       "    </tr>\n",
       "    <tr>\n",
       "      <td>9</td>\n",
       "      <td>LOS MARTIRES</td>\n",
       "      <td>11</td>\n",
       "    </tr>\n",
       "    <tr>\n",
       "      <td>4</td>\n",
       "      <td>CHAPINERO</td>\n",
       "      <td>9</td>\n",
       "    </tr>\n",
       "    <tr>\n",
       "      <td>3</td>\n",
       "      <td>CANDELARIA</td>\n",
       "      <td>9</td>\n",
       "    </tr>\n",
       "    <tr>\n",
       "      <td>15</td>\n",
       "      <td>TEUSAQUILLO</td>\n",
       "      <td>8</td>\n",
       "    </tr>\n",
       "    <tr>\n",
       "      <td>1</td>\n",
       "      <td>BARRIOS UNIDOS</td>\n",
       "      <td>5</td>\n",
       "    </tr>\n",
       "  </tbody>\n",
       "</table>\n",
       "</div>"
      ],
      "text/plain": [
       "         LOCALIDAD_TEX IPM_INASISTENCIA_ESC\n",
       "                                        sum\n",
       "8              KENNEDY                  120\n",
       "5       CIUDAD BOLIVAR                  100\n",
       "2                 BOSA                   92\n",
       "18                USME                   90\n",
       "14                SUBA                   54\n",
       "12       SAN CRISTOBAL                   50\n",
       "11  RAFAEL URIBE URIBE                   46\n",
       "7             FONTIBON                   42\n",
       "13            SANTA FE                   34\n",
       "10       PUENTE ARANDA                   29\n",
       "6             ENGATIVA                   25\n",
       "17             USAQUEN                   23\n",
       "16          TUNJUELITO                   18\n",
       "0       ANTONIO NARIÑO                   11\n",
       "9         LOS MARTIRES                   11\n",
       "4            CHAPINERO                    9\n",
       "3           CANDELARIA                    9\n",
       "15         TEUSAQUILLO                    8\n",
       "1       BARRIOS UNIDOS                    5"
      ]
     },
     "execution_count": 60,
     "metadata": {},
     "output_type": "execute_result"
    }
   ],
   "source": [
    "INA_ESC"
   ]
  },
  {
   "cell_type": "code",
   "execution_count": null,
   "metadata": {},
   "outputs": [],
   "source": [
    "# REZAGO ESCOLAR\n",
    "prop8=pd.crosstab(bogota_urbana['LOCALIDAD_TEX'],bogota_urbana['IPM_REZAGO_ESC']).apply(lambda r: r/r.sum(), axis=1).reset_index()\n",
    "prop8=prop8.rename(columns={0:'HOGAR_SIN_PRIVACION', 1:'HOGAR_CON_PRIVACION'})\n",
    "prop8=prop8.replace('\\t', '',regex=True)"
   ]
  },
  {
   "cell_type": "code",
   "execution_count": 297,
   "metadata": {},
   "outputs": [
    {
     "data": {
      "text/plain": [
       "<matplotlib.axes._subplots.AxesSubplot at 0x19be5afca48>"
      ]
     },
     "execution_count": 297,
     "metadata": {},
     "output_type": "execute_result"
    },
    {
     "data": {
      "image/png": "[encoded data removed]",
      "text/plain": [
       "<Figure size 720x576 with 1 Axes>"
      ]
     },
     "metadata": {
      "needs_background": "light"
     },
     "output_type": "display_data"
    }
   ],
   "source": [
    "prop8.groupby(\"LOCALIDAD_TEX\")[[\"HOGAR_CON_PRIVACION\"]].mean().sort_values(by=[\"HOGAR_CON_PRIVACION\"],ascending=True).plot(kind='barh', figsize=(10,8))"
   ]
  },
  {
   "cell_type": "code",
   "execution_count": null,
   "metadata": {},
   "outputs": [],
   "source": [
    "# IMP TRABAJO INFANTIL \n",
    "prop3=pd.crosstab(bogota_urbana['LOCALIDAD_TEX'],bogota_urbana['IPM_TRABAJO_INFANTIL']).apply(lambda r: r/r.sum(), axis=1).reset_index()\n",
    "prop3=prop3.rename(columns={0:'HOGAR_SIN_PRIVACION', 1:'HOGAR_CON_PRIVACION'})\n",
    "prop3=prop3.replace('\\t', '',regex=True)"
   ]
  },
  {
   "cell_type": "code",
   "execution_count": 298,
   "metadata": {},
   "outputs": [
    {
     "data": {
      "text/plain": [
       "<matplotlib.axes._subplots.AxesSubplot at 0x19be5adfa88>"
      ]
     },
     "execution_count": 298,
     "metadata": {},
     "output_type": "execute_result"
    },
    {
     "data": {
      "image/png": "[encoded data removed]",
      "text/plain": [
       "<Figure size 720x576 with 1 Axes>"
      ]
     },
     "metadata": {
      "needs_background": "light"
     },
     "output_type": "display_data"
    }
   ],
   "source": [
    "prop3.groupby(\"LOCALIDAD_TEX\")[[\"HOGAR_CON_PRIVACION\"]].mean().sort_values(by=[\"HOGAR_CON_PRIVACION\"],ascending=True).plot(kind='barh', figsize=(10,8))"
   ]
  },
  {
   "cell_type": "code",
   "execution_count": null,
   "metadata": {},
   "outputs": [],
   "source": [
    "df=bogota_urbana[['IPM_TRABAJO_INFANTIL','LOCALIDAD_TEX']]\n",
    "LP=sum(df.IPM_TRABAJO_INFANTIL)/len(df.IPM_TRABAJO_INFANTIL)\n",
    "LP"
   ]
  },
  {
   "cell_type": "code",
   "execution_count": null,
   "metadata": {},
   "outputs": [],
   "source": [
    "dummy=pd.get_dummies(bogota_urbana['IPM_TRABAJO_INFANTIL'])\n",
    "df=df.merge(dummy, left_index=True, right_index=True)\n",
    "x=df.groupby(['LOCALIDAD_TEX']).agg({'IPM_TRABAJO_INFANTIL': ['sum']}).reset_index()\n",
    "#print(x[['IPM_HACINAMIENTO']].sum())\n",
    "x=x.replace('\\t', '',regex=True)\n",
    "x=x.sort_values(by=[('IPM_TRABAJO_INFANTIL', 'sum')],ascending=False)\n",
    "x"
   ]
  },
  {
   "cell_type": "markdown",
   "metadata": {},
   "source": [
    "# TRABAJO\n"
   ]
  },
  {
   "cell_type": "code",
   "execution_count": 93,
   "metadata": {},
   "outputs": [],
   "source": [
    "# EMPLEO FORMAL\n",
    "prop2=pd.crosstab(bogota_urbana['LOCALIDAD_TEX'],bogota_urbana['IPM_EMPLEO_FORMAL']).apply(lambda r: r/r.sum(), axis=1).reset_index()\n",
    "prop2=prop2.rename(columns={0:'HOGAR_SIN_PRIVACION', 1:'HOGAR_CON_PRIVACION'})\n",
    "prop2=prop2.replace('\\t', '',regex=True)"
   ]
  },
  {
   "cell_type": "code",
   "execution_count": 64,
   "metadata": {},
   "outputs": [
    {
     "data": {
      "text/plain": [
       "<matplotlib.axes._subplots.AxesSubplot at 0x19bd6cc8248>"
      ]
     },
     "execution_count": 64,
     "metadata": {},
     "output_type": "execute_result"
    },
    {
     "data": {
      "image/png": "[encoded data removed]",
      "text/plain": [
       "<Figure size 720x576 with 1 Axes>"
      ]
     },
     "metadata": {
      "needs_background": "light"
     },
     "output_type": "display_data"
    }
   ],
   "source": [
    "prop2.groupby(\"LOCALIDAD_TEX\")[[\"HOGAR_CON_PRIVACION\"]].mean().sort_values(by=[\"HOGAR_CON_PRIVACION\"],ascending=True).plot(kind='barh', figsize=(10,8))"
   ]
  },
  {
   "cell_type": "code",
   "execution_count": 51,
   "metadata": {},
   "outputs": [
    {
     "data": {
      "text/plain": [
       "0.5709271168274384"
      ]
     },
     "execution_count": 51,
     "metadata": {},
     "output_type": "execute_result"
    }
   ],
   "source": [
    "df=bogota_urbana[['IPM_EMPLEO_FORMAL','LOCALIDAD_TEX']]\n",
    "empleo=sum(df.IPM_EMPLEO_FORMAL)/len(df.IPM_EMPLEO_FORMAL)\n",
    "empleo"
   ]
  },
  {
   "cell_type": "code",
   "execution_count": 54,
   "metadata": {},
   "outputs": [],
   "source": [
    "dummy=pd.get_dummies(bogota_urbana['IPM_EMPLEO_FORMAL'])\n",
    "df=df.merge(dummy, left_index=True, right_index=True)\n",
    "empl_informal=df.groupby(['LOCALIDAD_TEX']).agg({'IPM_EMPLEO_FORMAL': ['sum']}).reset_index()\n",
    "#print(x[['IPM_HACINAMIENTO']].sum())\n",
    "empl_informal=empl_informal.replace('\\t', '',regex=True)\n",
    "empl_informal=empl_informal.sort_values(by=[('IPM_EMPLEO_FORMAL', 'sum')],ascending=False)\n"
   ]
  },
  {
   "cell_type": "code",
   "execution_count": 55,
   "metadata": {},
   "outputs": [
    {
     "data": {
      "text/html": [
       "<div>\n",
       "<style scoped>\n",
       "    .dataframe tbody tr th:only-of-type {\n",
       "        vertical-align: middle;\n",
       "    }\n",
       "\n",
       "    .dataframe tbody tr th {\n",
       "        vertical-align: top;\n",
       "    }\n",
       "\n",
       "    .dataframe thead tr th {\n",
       "        text-align: left;\n",
       "    }\n",
       "</style>\n",
       "<table border=\"1\" class=\"dataframe\">\n",
       "  <thead>\n",
       "    <tr>\n",
       "      <th></th>\n",
       "      <th>LOCALIDAD_TEX</th>\n",
       "      <th>IPM_EMPLEO_FORMAL</th>\n",
       "    </tr>\n",
       "    <tr>\n",
       "      <th></th>\n",
       "      <th></th>\n",
       "      <th>sum</th>\n",
       "    </tr>\n",
       "  </thead>\n",
       "  <tbody>\n",
       "    <tr>\n",
       "      <td>8</td>\n",
       "      <td>KENNEDY</td>\n",
       "      <td>5496</td>\n",
       "    </tr>\n",
       "    <tr>\n",
       "      <td>14</td>\n",
       "      <td>SUBA</td>\n",
       "      <td>3545</td>\n",
       "    </tr>\n",
       "    <tr>\n",
       "      <td>5</td>\n",
       "      <td>CIUDAD BOLIVAR</td>\n",
       "      <td>3313</td>\n",
       "    </tr>\n",
       "    <tr>\n",
       "      <td>7</td>\n",
       "      <td>FONTIBON</td>\n",
       "      <td>3129</td>\n",
       "    </tr>\n",
       "    <tr>\n",
       "      <td>6</td>\n",
       "      <td>ENGATIVA</td>\n",
       "      <td>2771</td>\n",
       "    </tr>\n",
       "    <tr>\n",
       "      <td>12</td>\n",
       "      <td>SAN CRISTOBAL</td>\n",
       "      <td>2648</td>\n",
       "    </tr>\n",
       "    <tr>\n",
       "      <td>18</td>\n",
       "      <td>USME</td>\n",
       "      <td>2578</td>\n",
       "    </tr>\n",
       "    <tr>\n",
       "      <td>2</td>\n",
       "      <td>BOSA</td>\n",
       "      <td>2398</td>\n",
       "    </tr>\n",
       "    <tr>\n",
       "      <td>13</td>\n",
       "      <td>SANTA FE</td>\n",
       "      <td>2258</td>\n",
       "    </tr>\n",
       "    <tr>\n",
       "      <td>10</td>\n",
       "      <td>PUENTE ARANDA</td>\n",
       "      <td>2220</td>\n",
       "    </tr>\n",
       "    <tr>\n",
       "      <td>11</td>\n",
       "      <td>RAFAEL URIBE URIBE</td>\n",
       "      <td>2195</td>\n",
       "    </tr>\n",
       "    <tr>\n",
       "      <td>17</td>\n",
       "      <td>USAQUEN</td>\n",
       "      <td>2160</td>\n",
       "    </tr>\n",
       "    <tr>\n",
       "      <td>15</td>\n",
       "      <td>TEUSAQUILLO</td>\n",
       "      <td>1797</td>\n",
       "    </tr>\n",
       "    <tr>\n",
       "      <td>16</td>\n",
       "      <td>TUNJUELITO</td>\n",
       "      <td>1206</td>\n",
       "    </tr>\n",
       "    <tr>\n",
       "      <td>0</td>\n",
       "      <td>ANTONIO NARIÑO</td>\n",
       "      <td>1145</td>\n",
       "    </tr>\n",
       "    <tr>\n",
       "      <td>9</td>\n",
       "      <td>LOS MARTIRES</td>\n",
       "      <td>1131</td>\n",
       "    </tr>\n",
       "    <tr>\n",
       "      <td>1</td>\n",
       "      <td>BARRIOS UNIDOS</td>\n",
       "      <td>1103</td>\n",
       "    </tr>\n",
       "    <tr>\n",
       "      <td>4</td>\n",
       "      <td>CHAPINERO</td>\n",
       "      <td>946</td>\n",
       "    </tr>\n",
       "    <tr>\n",
       "      <td>3</td>\n",
       "      <td>CANDELARIA</td>\n",
       "      <td>575</td>\n",
       "    </tr>\n",
       "  </tbody>\n",
       "</table>\n",
       "</div>"
      ],
      "text/plain": [
       "         LOCALIDAD_TEX IPM_EMPLEO_FORMAL\n",
       "                                     sum\n",
       "8              KENNEDY              5496\n",
       "14                SUBA              3545\n",
       "5       CIUDAD BOLIVAR              3313\n",
       "7             FONTIBON              3129\n",
       "6             ENGATIVA              2771\n",
       "12       SAN CRISTOBAL              2648\n",
       "18                USME              2578\n",
       "2                 BOSA              2398\n",
       "13            SANTA FE              2258\n",
       "10       PUENTE ARANDA              2220\n",
       "11  RAFAEL URIBE URIBE              2195\n",
       "17             USAQUEN              2160\n",
       "15         TEUSAQUILLO              1797\n",
       "16          TUNJUELITO              1206\n",
       "0       ANTONIO NARIÑO              1145\n",
       "9         LOS MARTIRES              1131\n",
       "1       BARRIOS UNIDOS              1103\n",
       "4            CHAPINERO               946\n",
       "3           CANDELARIA               575"
      ]
     },
     "execution_count": 55,
     "metadata": {},
     "output_type": "execute_result"
    }
   ],
   "source": [
    "empl_informal"
   ]
  },
  {
   "cell_type": "markdown",
   "metadata": {},
   "source": [
    "# SALUD "
   ]
  },
  {
   "cell_type": "code",
   "execution_count": 61,
   "metadata": {},
   "outputs": [],
   "source": [
    "# SIN ASEGURAMIENTO EN SALUD \n",
    "prop9=pd.crosstab(bogota_urbana['LOCALIDAD_TEX'],bogota_urbana['IPM_ASEG_SALUD']).apply(lambda r: r/r.sum(), axis=1).reset_index()\n",
    "prop9=prop9.rename(columns={0:'HOGAR_SIN_PRIVACION', 1:'HOGAR_CON_PRIVACION'})\n",
    "prop9=prop9.replace('\\t', '',regex=True)"
   ]
  },
  {
   "cell_type": "code",
   "execution_count": 62,
   "metadata": {},
   "outputs": [
    {
     "data": {
      "text/plain": [
       "<matplotlib.axes._subplots.AxesSubplot at 0x1a2529ea488>"
      ]
     },
     "execution_count": 62,
     "metadata": {},
     "output_type": "execute_result"
    },
    {
     "data": {
      "image/png": "[encoded data removed]",
      "text/plain": [
       "<Figure size 720x576 with 1 Axes>"
      ]
     },
     "metadata": {
      "needs_background": "light"
     },
     "output_type": "display_data"
    }
   ],
   "source": [
    "prop9.groupby(\"LOCALIDAD_TEX\")[[\"HOGAR_CON_PRIVACION\"]].mean().sort_values(by=['HOGAR_CON_PRIVACION'],ascending=True).plot(kind='barh', figsize=(10,8))"
   ]
  },
  {
   "cell_type": "code",
   "execution_count": 63,
   "metadata": {},
   "outputs": [
    {
     "data": {
      "text/plain": [
       "0.1212754555198285"
      ]
     },
     "execution_count": 63,
     "metadata": {},
     "output_type": "execute_result"
    }
   ],
   "source": [
    "df=bogota_urbana[['IPM_ASEG_SALUD','LOCALIDAD_TEX']]\n",
    "salud=sum(df.IPM_ASEG_SALUD)/len(df.IPM_ASEG_SALUD)\n",
    "salud"
   ]
  },
  {
   "cell_type": "code",
   "execution_count": 64,
   "metadata": {},
   "outputs": [],
   "source": [
    "dummy=pd.get_dummies(bogota_urbana['IPM_ASEG_SALUD'])\n",
    "df=df.merge(dummy, left_index=True, right_index=True)\n",
    "Ipm_salud=df.groupby(['LOCALIDAD_TEX']).agg({'IPM_ASEG_SALUD': ['sum']}).reset_index()\n",
    "#print(x[['IPM_HACINAMIENTO']].sum())\n",
    "Ipm_salud=Ipm_salud.replace('\\t', '',regex=True)\n",
    "Ipm_salud=Ipm_salud.sort_values(by=[('IPM_ASEG_SALUD', 'sum')],ascending=False)"
   ]
  },
  {
   "cell_type": "code",
   "execution_count": 65,
   "metadata": {},
   "outputs": [
    {
     "data": {
      "text/html": [
       "<div>\n",
       "<style scoped>\n",
       "    .dataframe tbody tr th:only-of-type {\n",
       "        vertical-align: middle;\n",
       "    }\n",
       "\n",
       "    .dataframe tbody tr th {\n",
       "        vertical-align: top;\n",
       "    }\n",
       "\n",
       "    .dataframe thead tr th {\n",
       "        text-align: left;\n",
       "    }\n",
       "</style>\n",
       "<table border=\"1\" class=\"dataframe\">\n",
       "  <thead>\n",
       "    <tr>\n",
       "      <th></th>\n",
       "      <th>LOCALIDAD_TEX</th>\n",
       "      <th>IPM_ASEG_SALUD</th>\n",
       "    </tr>\n",
       "    <tr>\n",
       "      <th></th>\n",
       "      <th></th>\n",
       "      <th>sum</th>\n",
       "    </tr>\n",
       "  </thead>\n",
       "  <tbody>\n",
       "    <tr>\n",
       "      <td>8</td>\n",
       "      <td>KENNEDY</td>\n",
       "      <td>1255</td>\n",
       "    </tr>\n",
       "    <tr>\n",
       "      <td>5</td>\n",
       "      <td>CIUDAD BOLIVAR</td>\n",
       "      <td>689</td>\n",
       "    </tr>\n",
       "    <tr>\n",
       "      <td>6</td>\n",
       "      <td>ENGATIVA</td>\n",
       "      <td>688</td>\n",
       "    </tr>\n",
       "    <tr>\n",
       "      <td>14</td>\n",
       "      <td>SUBA</td>\n",
       "      <td>682</td>\n",
       "    </tr>\n",
       "    <tr>\n",
       "      <td>7</td>\n",
       "      <td>FONTIBON</td>\n",
       "      <td>625</td>\n",
       "    </tr>\n",
       "    <tr>\n",
       "      <td>2</td>\n",
       "      <td>BOSA</td>\n",
       "      <td>621</td>\n",
       "    </tr>\n",
       "    <tr>\n",
       "      <td>18</td>\n",
       "      <td>USME</td>\n",
       "      <td>609</td>\n",
       "    </tr>\n",
       "    <tr>\n",
       "      <td>12</td>\n",
       "      <td>SAN CRISTOBAL</td>\n",
       "      <td>552</td>\n",
       "    </tr>\n",
       "    <tr>\n",
       "      <td>17</td>\n",
       "      <td>USAQUEN</td>\n",
       "      <td>462</td>\n",
       "    </tr>\n",
       "    <tr>\n",
       "      <td>10</td>\n",
       "      <td>PUENTE ARANDA</td>\n",
       "      <td>455</td>\n",
       "    </tr>\n",
       "    <tr>\n",
       "      <td>13</td>\n",
       "      <td>SANTA FE</td>\n",
       "      <td>437</td>\n",
       "    </tr>\n",
       "    <tr>\n",
       "      <td>11</td>\n",
       "      <td>RAFAEL URIBE URIBE</td>\n",
       "      <td>395</td>\n",
       "    </tr>\n",
       "    <tr>\n",
       "      <td>0</td>\n",
       "      <td>ANTONIO NARIÑO</td>\n",
       "      <td>318</td>\n",
       "    </tr>\n",
       "    <tr>\n",
       "      <td>15</td>\n",
       "      <td>TEUSAQUILLO</td>\n",
       "      <td>292</td>\n",
       "    </tr>\n",
       "    <tr>\n",
       "      <td>16</td>\n",
       "      <td>TUNJUELITO</td>\n",
       "      <td>256</td>\n",
       "    </tr>\n",
       "    <tr>\n",
       "      <td>9</td>\n",
       "      <td>LOS MARTIRES</td>\n",
       "      <td>243</td>\n",
       "    </tr>\n",
       "    <tr>\n",
       "      <td>1</td>\n",
       "      <td>BARRIOS UNIDOS</td>\n",
       "      <td>195</td>\n",
       "    </tr>\n",
       "    <tr>\n",
       "      <td>4</td>\n",
       "      <td>CHAPINERO</td>\n",
       "      <td>171</td>\n",
       "    </tr>\n",
       "    <tr>\n",
       "      <td>3</td>\n",
       "      <td>CANDELARIA</td>\n",
       "      <td>107</td>\n",
       "    </tr>\n",
       "  </tbody>\n",
       "</table>\n",
       "</div>"
      ],
      "text/plain": [
       "         LOCALIDAD_TEX IPM_ASEG_SALUD\n",
       "                                  sum\n",
       "8              KENNEDY           1255\n",
       "5       CIUDAD BOLIVAR            689\n",
       "6             ENGATIVA            688\n",
       "14                SUBA            682\n",
       "7             FONTIBON            625\n",
       "2                 BOSA            621\n",
       "18                USME            609\n",
       "12       SAN CRISTOBAL            552\n",
       "17             USAQUEN            462\n",
       "10       PUENTE ARANDA            455\n",
       "13            SANTA FE            437\n",
       "11  RAFAEL URIBE URIBE            395\n",
       "0       ANTONIO NARIÑO            318\n",
       "15         TEUSAQUILLO            292\n",
       "16          TUNJUELITO            256\n",
       "9         LOS MARTIRES            243\n",
       "1       BARRIOS UNIDOS            195\n",
       "4            CHAPINERO            171\n",
       "3           CANDELARIA            107"
      ]
     },
     "execution_count": 65,
     "metadata": {},
     "output_type": "execute_result"
    }
   ],
   "source": [
    "Ipm_salud"
   ]
  },
  {
   "cell_type": "code",
   "execution_count": 75,
   "metadata": {},
   "outputs": [],
   "source": [
    "# ACCESO DE SALUD\n",
    "prop10=pd.crosstab(bogota_urbana['LOCALIDAD_TEX'],bogota_urbana['IPM_ACCESO_SALUD']).apply(lambda r: r/r.sum(), axis=1).reset_index()\n",
    "prop10=prop9.rename(columns={0:'HOGAR_SIN_PRIVACION', 1:'HOGAR_CON_PRIVACION'})\n",
    "prop10=prop9.replace('\\t', '',regex=True)"
   ]
  },
  {
   "cell_type": "code",
   "execution_count": 76,
   "metadata": {},
   "outputs": [
    {
     "data": {
      "text/plain": [
       "<matplotlib.axes._subplots.AxesSubplot at 0x1a25286d548>"
      ]
     },
     "execution_count": 76,
     "metadata": {},
     "output_type": "execute_result"
    },
    {
     "data": {
      "image/png": "[encoded data removed]",
      "text/plain": [
       "<Figure size 720x576 with 1 Axes>"
      ]
     },
     "metadata": {
      "needs_background": "light"
     },
     "output_type": "display_data"
    }
   ],
   "source": [
    "prop10.groupby(\"LOCALIDAD_TEX\")[[\"HOGAR_CON_PRIVACION\"]].mean().sort_values(by=['HOGAR_CON_PRIVACION'],ascending=True).plot(kind='barh', figsize=(10,8))"
   ]
  },
  {
   "cell_type": "code",
   "execution_count": null,
   "metadata": {},
   "outputs": [],
   "source": []
  },
  {
   "cell_type": "code",
   "execution_count": null,
   "metadata": {},
   "outputs": [],
   "source": []
  },
  {
   "cell_type": "markdown",
   "metadata": {},
   "source": [
    "# ACCESO A SERVICIOS PUBLICOS DOMICILIAROS "
   ]
  },
  {
   "cell_type": "code",
   "execution_count": 19,
   "metadata": {},
   "outputs": [],
   "source": [
    "# IPM AGUA\n",
    "prop4=pd.crosstab(bogota_urbana['LOCALIDAD_TEX'],bogota_urbana['IPM_AGUA']).apply(lambda r: r/r.sum(), axis=1).reset_index()\n",
    "prop4=prop4.rename(columns={0:'HOGAR_SIN_PRIVACION', 1:'HOGAR_CON_PRIVACION'})\n",
    "prop4=prop4.replace('\\t', '',regex=True)"
   ]
  },
  {
   "cell_type": "code",
   "execution_count": 20,
   "metadata": {},
   "outputs": [
    {
     "data": {
      "text/plain": [
       "<matplotlib.axes._subplots.AxesSubplot at 0x1cb23d28888>"
      ]
     },
     "execution_count": 20,
     "metadata": {},
     "output_type": "execute_result"
    },
    {
     "data": {
      "image/png": "[encoded data removed]",
      "text/plain": [
       "<Figure size 720x576 with 1 Axes>"
      ]
     },
     "metadata": {
      "needs_background": "light"
     },
     "output_type": "display_data"
    }
   ],
   "source": [
    "prop4.groupby(\"LOCALIDAD_TEX\")[[\"HOGAR_CON_PRIVACION\"]].mean().sort_values(by=['HOGAR_CON_PRIVACION'],ascending=True).plot(kind='barh', figsize=(10,8))"
   ]
  },
  {
   "cell_type": "code",
   "execution_count": 13,
   "metadata": {},
   "outputs": [],
   "source": [
    "# HACINAMIENTO \n",
    "prop14=pd.crosstab(bogota_urbana['LOCALIDAD_TEX'],bogota_urbana['IPM_HACINAMIENTO']).apply(lambda r: r/r.sum(), axis=1).reset_index()\n",
    "prop14=prop14.rename(columns={0:'HOGAR_SIN_PRIVACION', 1:'HOGAR_CON_PRIVACION'})\n",
    "prop14=prop14.replace('\\t', '',regex=True)"
   ]
  },
  {
   "cell_type": "code",
   "execution_count": 14,
   "metadata": {},
   "outputs": [
    {
     "data": {
      "text/plain": [
       "<matplotlib.axes._subplots.AxesSubplot at 0x1cb22aaef48>"
      ]
     },
     "execution_count": 14,
     "metadata": {},
     "output_type": "execute_result"
    },
    {
     "data": {
      "image/png": "[encoded data removed]",
      "text/plain": [
       "<Figure size 720x576 with 1 Axes>"
      ]
     },
     "metadata": {
      "needs_background": "light"
     },
     "output_type": "display_data"
    }
   ],
   "source": [
    "prop14.groupby(\"LOCALIDAD_TEX\")[[\"HOGAR_CON_PRIVACION\"]].mean().sort_values(by=['HOGAR_CON_PRIVACION'],ascending=True).plot(kind='barh', figsize=(10,8))"
   ]
  },
  {
   "cell_type": "code",
   "execution_count": 17,
   "metadata": {},
   "outputs": [
    {
     "data": {
      "text/plain": [
       "0.03469989281886388"
      ]
     },
     "execution_count": 17,
     "metadata": {},
     "output_type": "execute_result"
    }
   ],
   "source": [
    "df=bogota_urbana[['IPM_HACINAMIENTO','LOCALIDAD_TEX']]\n",
    "haci=sum(df.IPM_HACINAMIENTO)/len(df.IPM_HACINAMIENTO)\n",
    "haci"
   ]
  },
  {
   "cell_type": "code",
   "execution_count": 23,
   "metadata": {},
   "outputs": [],
   "source": [
    "dummy=pd.get_dummies(bogota_urbana['IPM_HACINAMIENTO'])\n",
    "df=df.merge(dummy, left_index=True, right_index=True)\n",
    "hacinamiento=df.groupby(['LOCALIDAD_TEX']).agg({'IPM_HACINAMIENTO': ['sum']}).reset_index()\n",
    "#print(x[['IPM_HACINAMIENTO']].sum())\n",
    "hacinamiento=hacinamiento.replace('\\t', '',regex=True)\n",
    "hacinamiento=hacinamiento.sort_values(by=[('IPM_HACINAMIENTO', 'sum')],ascending=False)"
   ]
  },
  {
   "cell_type": "code",
   "execution_count": 24,
   "metadata": {},
   "outputs": [
    {
     "data": {
      "text/html": [
       "<div>\n",
       "<style scoped>\n",
       "    .dataframe tbody tr th:only-of-type {\n",
       "        vertical-align: middle;\n",
       "    }\n",
       "\n",
       "    .dataframe tbody tr th {\n",
       "        vertical-align: top;\n",
       "    }\n",
       "\n",
       "    .dataframe thead tr th {\n",
       "        text-align: left;\n",
       "    }\n",
       "</style>\n",
       "<table border=\"1\" class=\"dataframe\">\n",
       "  <thead>\n",
       "    <tr>\n",
       "      <th></th>\n",
       "      <th>LOCALIDAD_TEX</th>\n",
       "      <th>IPM_HACINAMIENTO</th>\n",
       "    </tr>\n",
       "    <tr>\n",
       "      <th></th>\n",
       "      <th></th>\n",
       "      <th>sum</th>\n",
       "    </tr>\n",
       "  </thead>\n",
       "  <tbody>\n",
       "    <tr>\n",
       "      <td>5</td>\n",
       "      <td>CIUDAD BOLIVAR</td>\n",
       "      <td>333</td>\n",
       "    </tr>\n",
       "    <tr>\n",
       "      <td>8</td>\n",
       "      <td>KENNEDY</td>\n",
       "      <td>265</td>\n",
       "    </tr>\n",
       "    <tr>\n",
       "      <td>12</td>\n",
       "      <td>SAN CRISTOBAL</td>\n",
       "      <td>257</td>\n",
       "    </tr>\n",
       "    <tr>\n",
       "      <td>18</td>\n",
       "      <td>USME</td>\n",
       "      <td>232</td>\n",
       "    </tr>\n",
       "    <tr>\n",
       "      <td>2</td>\n",
       "      <td>BOSA</td>\n",
       "      <td>169</td>\n",
       "    </tr>\n",
       "    <tr>\n",
       "      <td>11</td>\n",
       "      <td>RAFAEL URIBE URIBE</td>\n",
       "      <td>169</td>\n",
       "    </tr>\n",
       "    <tr>\n",
       "      <td>13</td>\n",
       "      <td>SANTA FE</td>\n",
       "      <td>164</td>\n",
       "    </tr>\n",
       "    <tr>\n",
       "      <td>14</td>\n",
       "      <td>SUBA</td>\n",
       "      <td>161</td>\n",
       "    </tr>\n",
       "    <tr>\n",
       "      <td>7</td>\n",
       "      <td>FONTIBON</td>\n",
       "      <td>153</td>\n",
       "    </tr>\n",
       "    <tr>\n",
       "      <td>6</td>\n",
       "      <td>ENGATIVA</td>\n",
       "      <td>131</td>\n",
       "    </tr>\n",
       "    <tr>\n",
       "      <td>16</td>\n",
       "      <td>TUNJUELITO</td>\n",
       "      <td>121</td>\n",
       "    </tr>\n",
       "    <tr>\n",
       "      <td>17</td>\n",
       "      <td>USAQUEN</td>\n",
       "      <td>92</td>\n",
       "    </tr>\n",
       "    <tr>\n",
       "      <td>10</td>\n",
       "      <td>PUENTE ARANDA</td>\n",
       "      <td>80</td>\n",
       "    </tr>\n",
       "    <tr>\n",
       "      <td>4</td>\n",
       "      <td>CHAPINERO</td>\n",
       "      <td>54</td>\n",
       "    </tr>\n",
       "    <tr>\n",
       "      <td>1</td>\n",
       "      <td>BARRIOS UNIDOS</td>\n",
       "      <td>50</td>\n",
       "    </tr>\n",
       "    <tr>\n",
       "      <td>9</td>\n",
       "      <td>LOS MARTIRES</td>\n",
       "      <td>48</td>\n",
       "    </tr>\n",
       "    <tr>\n",
       "      <td>0</td>\n",
       "      <td>ANTONIO NARIÑO</td>\n",
       "      <td>46</td>\n",
       "    </tr>\n",
       "    <tr>\n",
       "      <td>15</td>\n",
       "      <td>TEUSAQUILLO</td>\n",
       "      <td>33</td>\n",
       "    </tr>\n",
       "    <tr>\n",
       "      <td>3</td>\n",
       "      <td>CANDELARIA</td>\n",
       "      <td>32</td>\n",
       "    </tr>\n",
       "  </tbody>\n",
       "</table>\n",
       "</div>"
      ],
      "text/plain": [
       "         LOCALIDAD_TEX IPM_HACINAMIENTO\n",
       "                                    sum\n",
       "5       CIUDAD BOLIVAR              333\n",
       "8              KENNEDY              265\n",
       "12       SAN CRISTOBAL              257\n",
       "18                USME              232\n",
       "2                 BOSA              169\n",
       "11  RAFAEL URIBE URIBE              169\n",
       "13            SANTA FE              164\n",
       "14                SUBA              161\n",
       "7             FONTIBON              153\n",
       "6             ENGATIVA              131\n",
       "16          TUNJUELITO              121\n",
       "17             USAQUEN               92\n",
       "10       PUENTE ARANDA               80\n",
       "4            CHAPINERO               54\n",
       "1       BARRIOS UNIDOS               50\n",
       "9         LOS MARTIRES               48\n",
       "0       ANTONIO NARIÑO               46\n",
       "15         TEUSAQUILLO               33\n",
       "3           CANDELARIA               32"
      ]
     },
     "execution_count": 24,
     "metadata": {},
     "output_type": "execute_result"
    }
   ],
   "source": [
    "hacinamiento"
   ]
  },
  {
   "cell_type": "code",
   "execution_count": 21,
   "metadata": {},
   "outputs": [],
   "source": [
    "# IPM_SAN_BASICO (ALCANTARILLADO)\n",
    "prop11=pd.crosstab(bogota_urbana['LOCALIDAD_TEX'],bogota_urbana['IPM_SAN_BASICO']).apply(lambda r: r/r.sum(), axis=1).reset_index()\n",
    "prop11=prop11.rename(columns={0:'HOGAR_SIN_PRIVACION', 1:'HOGAR_CON_PRIVACION'})\n",
    "prop11=prop11.replace('\\t', '',regex=True)"
   ]
  },
  {
   "cell_type": "code",
   "execution_count": 22,
   "metadata": {},
   "outputs": [
    {
     "data": {
      "text/plain": [
       "<matplotlib.axes._subplots.AxesSubplot at 0x1cb23de6848>"
      ]
     },
     "execution_count": 22,
     "metadata": {},
     "output_type": "execute_result"
    },
    {
     "data": {
      "image/png": "[encoded data removed]",
      "text/plain": [
       "<Figure size 720x576 with 1 Axes>"
      ]
     },
     "metadata": {
      "needs_background": "light"
     },
     "output_type": "display_data"
    }
   ],
   "source": [
    "prop11.groupby(\"LOCALIDAD_TEX\")[[\"HOGAR_CON_PRIVACION\"]].mean().sort_values(by=['HOGAR_CON_PRIVACION'],ascending=True).plot(kind='barh', figsize=(10,8))"
   ]
  },
  {
   "cell_type": "code",
   "execution_count": 95,
   "metadata": {},
   "outputs": [],
   "source": [
    "# PISOS\n",
    "prop12=pd.crosstab(bogota_urbana['LOCALIDAD_TEX'],bogota_urbana['IPM_PISOS']).apply(lambda r: r/r.sum(), axis=1).reset_index()\n",
    "prop12=prop12.rename(columns={0:'HOGAR_SIN_PRIVACION', 1:'HOGAR_CON_PRIVACION'})\n",
    "prop12=prop12.replace('\\t', '',regex=True)"
   ]
  },
  {
   "cell_type": "code",
   "execution_count": 96,
   "metadata": {},
   "outputs": [
    {
     "data": {
      "text/plain": [
       "<matplotlib.axes._subplots.AxesSubplot at 0x19bdc74e088>"
      ]
     },
     "execution_count": 96,
     "metadata": {},
     "output_type": "execute_result"
    },
    {
     "data": {
      "image/png": "[encoded data removed]",
      "text/plain": [
       "<Figure size 720x576 with 1 Axes>"
      ]
     },
     "metadata": {
      "needs_background": "light"
     },
     "output_type": "display_data"
    }
   ],
   "source": [
    "prop12.groupby(\"LOCALIDAD_TEX\")[[\"HOGAR_CON_PRIVACION\"]].mean().sort_values(by=['HOGAR_CON_PRIVACION'],ascending=True).plot(kind='barh', figsize=(10,8))"
   ]
  },
  {
   "cell_type": "code",
   "execution_count": 97,
   "metadata": {},
   "outputs": [],
   "source": [
    "# PAREDES\n",
    "prop13=pd.crosstab(bogota_urbana['LOCALIDAD_TEX'],bogota_urbana['IPM_PAREDES']).apply(lambda r: r/r.sum(), axis=1).reset_index()\n",
    "prop13=prop13.rename(columns={0:'HOGAR_SIN_PRIVACION', 1:'HOGAR_CON_PRIVACION'})\n",
    "prop13=prop13.replace('\\t', '',regex=True)"
   ]
  },
  {
   "cell_type": "code",
   "execution_count": 98,
   "metadata": {},
   "outputs": [
    {
     "data": {
      "text/plain": [
       "<matplotlib.axes._subplots.AxesSubplot at 0x19bdc7f2808>"
      ]
     },
     "execution_count": 98,
     "metadata": {},
     "output_type": "execute_result"
    },
    {
     "data": {
      "image/png": "[encoded data removed]",
      "text/plain": [
       "<Figure size 720x576 with 1 Axes>"
      ]
     },
     "metadata": {
      "needs_background": "light"
     },
     "output_type": "display_data"
    }
   ],
   "source": [
    "prop13.groupby(\"LOCALIDAD_TEX\")[[\"HOGAR_CON_PRIVACION\"]].mean().sort_values(by=['HOGAR_CON_PRIVACION'],ascending=True).plot(kind='barh', figsize=(10,8))"
   ]
  },
  {
   "cell_type": "code",
   "execution_count": 289,
   "metadata": {},
   "outputs": [],
   "source": []
  },
  {
   "cell_type": "code",
   "execution_count": null,
   "metadata": {},
   "outputs": [],
   "source": []
  },
  {
   "cell_type": "code",
   "execution_count": null,
   "metadata": {},
   "outputs": [],
   "source": []
  },
  {
   "cell_type": "code",
   "execution_count": null,
   "metadata": {},
   "outputs": [],
   "source": []
  },
  {
   "cell_type": "code",
   "execution_count": null,
   "metadata": {},
   "outputs": [],
   "source": []
  },
  {
   "cell_type": "code",
   "execution_count": null,
   "metadata": {},
   "outputs": [],
   "source": []
  },
  {
   "cell_type": "code",
   "execution_count": null,
   "metadata": {},
   "outputs": [],
   "source": []
  },
  {
   "cell_type": "code",
   "execution_count": null,
   "metadata": {},
   "outputs": [],
   "source": []
  },
  {
   "cell_type": "code",
   "execution_count": null,
   "metadata": {},
   "outputs": [],
   "source": []
  },
  {
   "cell_type": "code",
   "execution_count": null,
   "metadata": {},
   "outputs": [],
   "source": []
  }
 ],
 "metadata": {
  "kernelspec": {
   "display_name": "Python 3",
   "language": "python",
   "name": "python3"
  },
  "language_info": {
   "codemirror_mode": {
    "name": "ipython",
    "version": 3
   },
   "file_extension": ".py",
   "mimetype": "text/x-python",
   "name": "python",
   "nbconvert_exporter": "python",
   "pygments_lexer": "ipython3",
   "version": "3.7.4"
  }
 },
 "nbformat": 4,
 "nbformat_minor": 2
}
